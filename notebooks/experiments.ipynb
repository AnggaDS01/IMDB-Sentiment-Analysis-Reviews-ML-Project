{
  "cells": [
    {
      "cell_type": "code",
      "execution_count": 1,
      "metadata": {
        "id": "q940EGAcWbR9"
      },
      "outputs": [],
      "source": [
        "from tensorflow.keras.preprocessing.sequence import pad_sequences\n",
        "from tensorflow.keras.preprocessing.text import Tokenizer\n",
        "from sklearn.preprocessing import LabelBinarizer\n",
        "from sklearn.metrics import classification_report\n",
        "from tqdm import tqdm\n",
        "\n",
        "import tensorflow as tf\n",
        "import pandas  as pd\n",
        "import numpy as np\n",
        "import seaborn as sns\n",
        "import matplotlib.pyplot as plt\n",
        "import spacy\n",
        "import re\n",
        "import pickle\n",
        "\n",
        "tqdm.pandas()"
      ]
    },
    {
      "cell_type": "code",
      "execution_count": 6,
      "metadata": {
        "id": "Kof9pATrXXA6"
      },
      "outputs": [],
      "source": [
        "df = pd.read_csv('../artifacts/09_06_2024_15_18_56/DataIngestionArtifacts/IMDB Dataset.csv')"
      ]
    },
    {
      "cell_type": "code",
      "execution_count": 4,
      "metadata": {
        "id": "hFw8yI9fXXdI"
      },
      "outputs": [],
      "source": [
        "class DatasetSplitter:\n",
        "    def __init__(self, batch_size=64, train_split=0.9, seed=None, shuffle_buffer_size=None):\n",
        "        \"\"\"\n",
        "        Initialize the DatasetSplitter with default or provided parameters.\n",
        "\n",
        "        Args:\n",
        "            batch_size (int, optional): The size of the batches. Default is 64.\n",
        "            train_split (float, optional): The proportion of the dataset to use for training. Default is 0.9.\n",
        "            shuffle_buffer_size (int, optional): The buffer size for shuffling the dataset. Default is None.\n",
        "        \"\"\"\n",
        "        self.batch_size = batch_size\n",
        "        self.train_split = train_split\n",
        "        self.shuffle_buffer_size = shuffle_buffer_size\n",
        "        self.seed = seed\n",
        "\n",
        "    def split_and_prepare(self, dataset):\n",
        "        \"\"\"\n",
        "        Split a dataset into training and validation sets, batch, and prefetch them.\n",
        "\n",
        "        Args:\n",
        "            dataset (tf.data.Dataset): The dataset to be split and prepared.\n",
        "\n",
        "        Returns:\n",
        "            tuple: A tuple containing the training and validation datasets, both batched and prefetched.\n",
        "        \"\"\"\n",
        "        dataset_shuffled = self._shuffle_dataset(dataset)\n",
        "        dataset_batched_and_prefetched = self._batch_and_prefetch(dataset_shuffled)\n",
        "\n",
        "        train_size = int(self.train_split * len(dataset_batched_and_prefetched))\n",
        "        train_dataset = dataset_batched_and_prefetched.take(train_size)\n",
        "        valid_dataset = dataset_batched_and_prefetched.skip(train_size)\n",
        "\n",
        "        self._display_info(dataset, train_dataset, valid_dataset)\n",
        "\n",
        "        return train_dataset, valid_dataset\n",
        "\n",
        "    def _shuffle_dataset(self, dataset):\n",
        "        tf.random.set_seed(self.seed)\n",
        "        if self.shuffle_buffer_size is None:\n",
        "            self.shuffle_buffer_size = len(dataset)\n",
        "        return dataset.shuffle(self.shuffle_buffer_size, seed=self.seed)\n",
        "\n",
        "    def _batch_and_prefetch(self, dataset):\n",
        "        return dataset.batch(self.batch_size).prefetch(tf.data.AUTOTUNE)\n",
        "\n",
        "    def _display_info(self, dataset, train_dataset, valid_dataset):\n",
        "        print(f\"=================================== Original Dataset ===================================\")\n",
        "        print(f\"Info data: {dataset}\")\n",
        "        print(f\"Number of data: {len(dataset)}\")\n",
        "        print(f\"BATCH SIZE: {self.batch_size}\")\n",
        "\n",
        "        print(f\"=================================== Training Dataset ===================================\")\n",
        "        print(f\"Info data: {train_dataset}\")\n",
        "        print(f\"Training Split: {self.train_split}\")\n",
        "        print(f\"Number of data: {len(train_dataset)}\")\n",
        "\n",
        "        print(f\"=================================== Validation Dataset ===================================\")\n",
        "        print(f\"Info data: {valid_dataset}\")\n",
        "        print(f\"Validation Split: {round(1 - self.train_split, 2)}\")\n",
        "        print(f\"Number of data: {len(valid_dataset)}\")"
      ]
    },
    {
      "cell_type": "code",
      "execution_count": 5,
      "metadata": {
        "id": "YO_oES9tXhQv"
      },
      "outputs": [],
      "source": [
        "def evaluate_model(model, test_dataset, class_names):\n",
        "  \"\"\"\n",
        "  Evaluate the model using confusion matrix, classification report, and other metrics.\n",
        "\n",
        "  Args:\n",
        "  - model: Trained Keras model.\n",
        "  - test_dataset: tf.data.Dataset for evaluation.\n",
        "  - class_names: List of class names corresponding to the labels.\n",
        "  \"\"\"\n",
        "  # Extract the true labels and predicted labels\n",
        "  y_true = []\n",
        "  y_pred = []\n",
        "\n",
        "  for features, labels in test_dataset:\n",
        "    predictions = model.predict(features, verbose=0)\n",
        "    fix_label = np.squeeze(labels) * 1.0\n",
        "    fix_pred = np.squeeze(np.round(predictions))\n",
        "\n",
        "    y_pred.extend(fix_pred)\n",
        "    y_true.extend(fix_label)\n",
        "\n",
        "  y_true = np.array(y_true)\n",
        "  y_pred = np.array(y_pred)\n",
        "\n",
        "  # Compute confusion matrix\n",
        "  cm = tf.math.confusion_matrix(y_true, y_pred).numpy()\n",
        "\n",
        "  # Display confusion matrix with class names\n",
        "  plt.figure(figsize=(12, 10))\n",
        "  sns.heatmap(cm, annot=True, fmt=\"d\", cmap=\"Blues\", xticklabels=class_names, yticklabels=class_names)\n",
        "  plt.title('Confusion Matrix')\n",
        "  plt.xlabel('Predicted Label')\n",
        "  plt.ylabel('True Label')\n",
        "  plt.show()\n",
        "\n",
        "  # Print classification report with class names\n",
        "  print(\"Classification Report:\")\n",
        "  print(classification_report(y_true, y_pred))"
      ]
    },
    {
      "cell_type": "code",
      "execution_count": 14,
      "metadata": {
        "colab": {
          "base_uri": "https://localhost:8080/",
          "height": 206
        },
        "id": "IDwKY543Xnbq",
        "outputId": "7f27404b-2f94-40dd-de94-41d11cc86be3"
      },
      "outputs": [
        {
          "data": {
            "text/plain": [
              "\"One of the other reviewers has mentioned that after watching just 1 Oz episode you'll be hooked. They are right, as this is exactly what happened with me.<br /><br />The first thing that struck me about Oz was its brutality and unflinching scenes of violence, which set in right from the word GO. Trust me, this is not a show for the faint hearted or timid. This show pulls no punches with regards to drugs, sex or violence. Its is hardcore, in the classic use of the word.<br /><br />It is called OZ as that is the nickname given to the Oswald Maximum Security State Penitentary. It focuses mainly on Emerald City, an experimental section of the prison where all the cells have glass fronts and face inwards, so privacy is not high on the agenda. Em City is home to many..Aryans, Muslims, gangstas, Latinos, Christians, Italians, Irish and more....so scuffles, death stares, dodgy dealings and shady agreements are never far away.<br /><br />I would say the main appeal of the show is due to the fact that it goes where other shows wouldn't dare. Forget pretty pictures painted for mainstream audiences, forget charm, forget romance...OZ doesn't mess around. The first episode I ever saw struck me as so nasty it was surreal, I couldn't say I was ready for it, but as I watched more, I developed a taste for Oz, and got accustomed to the high levels of graphic violence. Not just violence, but injustice (crooked guards who'll be sold out for a nickel, inmates who'll kill on order and get away with it, well mannered, middle class inmates being turned into prison bitches due to their lack of street skills or prison experience) Watching Oz, you may become comfortable with what is uncomfortable viewing....thats if you can get in touch with your darker side.\""
            ]
          },
          "execution_count": 14,
          "metadata": {},
          "output_type": "execute_result"
        }
      ],
      "source": [
        "df['review'][0]"
      ]
    },
    {
      "cell_type": "code",
      "execution_count": 7,
      "metadata": {
        "colab": {
          "base_uri": "https://localhost:8080/",
          "height": 178
        },
        "id": "iJRpwnM0Xrqs",
        "outputId": "ad06a345-792d-4189-8f65-66848708c3f6"
      },
      "outputs": [
        {
          "data": {
            "text/plain": [
              "sentiment\n",
              "positive    25000\n",
              "negative    25000\n",
              "Name: count, dtype: int64"
            ]
          },
          "execution_count": 7,
          "metadata": {},
          "output_type": "execute_result"
        }
      ],
      "source": [
        "df['sentiment'].value_counts()"
      ]
    },
    {
      "cell_type": "code",
      "execution_count": 7,
      "metadata": {
        "colab": {
          "base_uri": "https://localhost:8080/",
          "height": 449
        },
        "id": "6GMiWFzgXvy7",
        "outputId": "3307f1a4-8acb-45aa-afe5-55f7889de4ee"
      },
      "outputs": [
        {
          "data": {
            "image/png": "[encoded data removed]",
            "text/plain": [
              "<Figure size 640x480 with 1 Axes>"
            ]
          },
          "metadata": {},
          "output_type": "display_data"
        }
      ],
      "source": [
        "ax = sns.countplot(x='sentiment', data=df)\n",
        "height_list = []\n",
        "for bar in ax.patches:\n",
        "    height = f'{bar.get_height():.2f}'\n",
        "    x = bar.get_x() + bar.get_width() / 2\n",
        "    y = bar.get_y() + bar.get_height() * 1.01\n",
        "    ax.text(x, y, height, ha=\"center\", va=\"bottom\")\n",
        "    height_list.append(height)\n",
        "max_height = max(height_list)\n",
        "ax.set_ylim(0, float(max_height) * 1.1)\n",
        "plt.show()"
      ]
    },
    {
      "cell_type": "code",
      "execution_count": 8,
      "metadata": {
        "colab": {
          "base_uri": "https://localhost:8080/",
          "height": 406
        },
        "id": "b7cvrUfXaL87",
        "outputId": "6a0e808b-f337-4ee1-a88b-3663619e77e0"
      },
      "outputs": [
        {
          "data": {
            "image/png": "[encoded data removed]",
            "text/plain": [
              "<Figure size 640x480 with 1 Axes>"
            ]
          },
          "metadata": {},
          "output_type": "display_data"
        }
      ],
      "source": [
        "plt.pie(df['sentiment'].value_counts(), labels=df['sentiment'].value_counts().index, autopct='%1.1f%%')\n",
        "plt.show()"
      ]
    },
    {
      "cell_type": "code",
      "execution_count": 9,
      "metadata": {
        "colab": {
          "base_uri": "https://localhost:8080/",
          "height": 164
        },
        "id": "Ge5Bd5bgaj3e",
        "outputId": "c85a1910-f9ca-4032-d1d5-24a3b80cbaca"
      },
      "outputs": [
        {
          "data": {
            "application/vnd.google.colaboratory.intrinsic+json": {
              "type": "string"
            },
            "text/plain": [
              "'A wonderful little production. <br /><br />The filming technique is very unassuming- very old-time-BBC fashion and gives a comforting, and sometimes discomforting, sense of realism to the entire piece. <br /><br />The actors are extremely well chosen- Michael Sheen not only \"has got all the polari\" but he has all the voices down pat too! You can truly see the seamless editing guided by the references to Williams\\' diary entries, not only is it well worth the watching but it is a terrificly written and performed piece. A masterful production about one of the great master\\'s of comedy and his life. <br /><br />The realism really comes home with the little things: the fantasy of the guard which, rather than use the traditional \\'dream\\' techniques remains solid then disappears. It plays on our knowledge and our senses, particularly with the scenes concerning Orton and Halliwell and the sets (particularly of their flat with Halliwell\\'s murals decorating every surface) are terribly well done.'"
            ]
          },
          "execution_count": 9,
          "metadata": {},
          "output_type": "execute_result"
        }
      ],
      "source": [
        "df.loc[1, 'review']"
      ]
    },
    {
      "cell_type": "code",
      "execution_count": 28,
      "metadata": {
        "id": "NAXTg8vbbRY2"
      },
      "outputs": [],
      "source": [
        "def clean_review_func(review):\n",
        "    # Menghapus tag HTML menggunakan regex\n",
        "    review = re.sub(r'<.*?>', '', review.lower())\n",
        "\n",
        "    # Menghapus URL/link\n",
        "    review = re.sub(r'http\\S+|www\\S+|https\\S+', '', review)\n",
        "\n",
        "    # Mengganti semua kata dengan tanda hubung menjadi versi tanpa tanda hubung\n",
        "    review = re.sub(r'(\\w+)(-\\w+)+', lambda x: x.group(0).replace('-', ' '), review)\n",
        "\n",
        "    # Menghapus karakter khusus selain huruf, angka, dan spasi\n",
        "    review = re.sub(r'[^a-zA-Z0-9\\s]', '', review)\n",
        "\n",
        "    # Menghapus spasi yang berlebihan\n",
        "    review = re.sub(r'\\s+', ' ', review).strip()\n",
        "\n",
        "    return review\n",
        "\n",
        "def label_processor(data):\n",
        "    lb = LabelBinarizer()\n",
        "    label_processor_obj = lb.fit(data)\n",
        "\n",
        "    return label_processor_obj"
      ]
    },
    {
      "cell_type": "code",
      "execution_count": 29,
      "metadata": {
        "colab": {
          "base_uri": "https://localhost:8080/",
          "height": 348
        },
        "id": "gD5ASK7TbZrQ",
        "outputId": "beeec61d-e64e-4237-eeff-f61913123c8f"
      },
      "outputs": [
        {
          "data": {
            "text/plain": [
              "'Original Review:'"
            ]
          },
          "metadata": {},
          "output_type": "display_data"
        },
        {
          "data": {
            "text/plain": [
              "'A wonderful little production. <br /><br />The filming technique is very unassuming- very old-time-BBC fashion and gives a comforting, and sometimes discomforting, sense of realism to the entire piece. <br /><br />The actors are extremely well chosen- Michael Sheen not only \"has got all the polari\" but he has all the voices down pat too! You can truly see the seamless editing guided by the references to Williams\\' diary entries, not only is it well worth the watching but it is a terrificly written and performed piece. A masterful production about one of the great master\\'s of comedy and his life. <br /><br />The realism really comes home with the little things: the fantasy of the guard which, rather than use the traditional \\'dream\\' techniques remains solid then disappears. It plays on our knowledge and our senses, particularly with the scenes concerning Orton and Halliwell and the sets (particularly of their flat with Halliwell\\'s murals decorating every surface) are terribly well done.'"
            ]
          },
          "metadata": {},
          "output_type": "display_data"
        },
        {
          "name": "stdout",
          "output_type": "stream",
          "text": [
            "\n"
          ]
        },
        {
          "data": {
            "text/plain": [
              "'Cleaned Review:'"
            ]
          },
          "metadata": {},
          "output_type": "display_data"
        },
        {
          "data": {
            "text/plain": [
              "'a wonderful little production the filming technique is very unassuming very old time bbc fashion and gives a comforting and sometimes discomforting sense of realism to the entire piece the actors are extremely well chosen michael sheen not only has got all the polari but he has all the voices down pat too you can truly see the seamless editing guided by the references to williams diary entries not only is it well worth the watching but it is a terrificly written and performed piece a masterful production about one of the great masters of comedy and his life the realism really comes home with the little things the fantasy of the guard which rather than use the traditional dream techniques remains solid then disappears it plays on our knowledge and our senses particularly with the scenes concerning orton and halliwell and the sets particularly of their flat with halliwells murals decorating every surface are terribly well done'"
            ]
          },
          "metadata": {},
          "output_type": "display_data"
        }
      ],
      "source": [
        "# Contoh review IMDB dengan tag HTML dan karakter khusus\n",
        "sample_review = df.loc[1, 'review']\n",
        "cleaned_review = clean_review_func(sample_review)\n",
        "\n",
        "display(\"Original Review:\", sample_review)\n",
        "print()\n",
        "display(\"Cleaned Review:\", cleaned_review)"
      ]
    },
    {
      "cell_type": "code",
      "execution_count": 30,
      "metadata": {
        "colab": {
          "base_uri": "https://localhost:8080/"
        },
        "id": "HTojnbyhbt73",
        "outputId": "86697305-c416-4925-89cc-bd6b1b8592fb"
      },
      "outputs": [
        {
          "name": "stderr",
          "output_type": "stream",
          "text": [
            "100%|██████████| 50000/50000 [01:00<00:00, 829.75it/s] \n"
          ]
        }
      ],
      "source": [
        "df['review'] = df['review'].progress_apply(clean_review_func)"
      ]
    },
    {
      "cell_type": "code",
      "execution_count": 31,
      "metadata": {
        "colab": {
          "base_uri": "https://localhost:8080/",
          "height": 145
        },
        "id": "6PoBuzngcU-v",
        "outputId": "e66a28ef-427b-40d5-c18d-8b9c456843b8"
      },
      "outputs": [
        {
          "data": {
            "text/plain": [
              "'i thought this was a wonderful way to spend time on a too hot summer weekend sitting in the air conditioned theater and watching a light hearted comedy the plot is simplistic but the dialogue is witty and the characters are likable even the well bread suspected serial killer while some may be disappointed when they realize this is not match point 2 risk addiction i thought it was proof that woody allen is still fully in control of the style many of us have grown to lovethis was the most id laughed at one of woodys comedies in years dare i say a decade while ive never been impressed with scarlet johanson in this she managed to tone down her sexy image and jumped right into a average but spirited young womanthis may not be the crown jewel of his career but it was wittier than devil wears prada and more interesting than superman a great comedy to go see with friends'"
            ]
          },
          "execution_count": 31,
          "metadata": {},
          "output_type": "execute_result"
        }
      ],
      "source": [
        "df.loc[2, 'review']"
      ]
    },
    {
      "cell_type": "code",
      "execution_count": 32,
      "metadata": {},
      "outputs": [
        {
          "data": {
            "text/html": [
              "<style>#sk-container-id-5 {\n",
              "  /* Definition of color scheme common for light and dark mode */\n",
              "  --sklearn-color-text: black;\n",
              "  --sklearn-color-line: gray;\n",
              "  /* Definition of color scheme for unfitted estimators */\n",
              "  --sklearn-color-unfitted-level-0: #fff5e6;\n",
              "  --sklearn-color-unfitted-level-1: #f6e4d2;\n",
              "  --sklearn-color-unfitted-level-2: #ffe0b3;\n",
              "  --sklearn-color-unfitted-level-3: chocolate;\n",
              "  /* Definition of color scheme for fitted estimators */\n",
              "  --sklearn-color-fitted-level-0: #f0f8ff;\n",
              "  --sklearn-color-fitted-level-1: #d4ebff;\n",
              "  --sklearn-color-fitted-level-2: #b3dbfd;\n",
              "  --sklearn-color-fitted-level-3: cornflowerblue;\n",
              "\n",
              "  /* Specific color for light theme */\n",
              "  --sklearn-color-text-on-default-background: var(--sg-text-color, var(--theme-code-foreground, var(--jp-content-font-color1, black)));\n",
              "  --sklearn-color-background: var(--sg-background-color, var(--theme-background, var(--jp-layout-color0, white)));\n",
              "  --sklearn-color-border-box: var(--sg-text-color, var(--theme-code-foreground, var(--jp-content-font-color1, black)));\n",
              "  --sklearn-color-icon: #696969;\n",
              "\n",
              "  @media (prefers-color-scheme: dark) {\n",
              "    /* Redefinition of color scheme for dark theme */\n",
              "    --sklearn-color-text-on-default-background: var(--sg-text-color, var(--theme-code-foreground, var(--jp-content-font-color1, white)));\n",
              "    --sklearn-color-background: var(--sg-background-color, var(--theme-background, var(--jp-layout-color0, #111)));\n",
              "    --sklearn-color-border-box: var(--sg-text-color, var(--theme-code-foreground, var(--jp-content-font-color1, white)));\n",
              "    --sklearn-color-icon: #878787;\n",
              "  }\n",
              "}\n",
              "\n",
              "#sk-container-id-5 {\n",
              "  color: var(--sklearn-color-text);\n",
              "}\n",
              "\n",
              "#sk-container-id-5 pre {\n",
              "  padding: 0;\n",
              "}\n",
              "\n",
              "#sk-container-id-5 input.sk-hidden--visually {\n",
              "  border: 0;\n",
              "  clip: rect(1px 1px 1px 1px);\n",
              "  clip: rect(1px, 1px, 1px, 1px);\n",
              "  height: 1px;\n",
              "  margin: -1px;\n",
              "  overflow: hidden;\n",
              "  padding: 0;\n",
              "  position: absolute;\n",
              "  width: 1px;\n",
              "}\n",
              "\n",
              "#sk-container-id-5 div.sk-dashed-wrapped {\n",
              "  border: 1px dashed var(--sklearn-color-line);\n",
              "  margin: 0 0.4em 0.5em 0.4em;\n",
              "  box-sizing: border-box;\n",
              "  padding-bottom: 0.4em;\n",
              "  background-color: var(--sklearn-color-background);\n",
              "}\n",
              "\n",
              "#sk-container-id-5 div.sk-container {\n",
              "  /* jupyter's `normalize.less` sets `[hidden] { display: none; }`\n",
              "     but bootstrap.min.css set `[hidden] { display: none !important; }`\n",
              "     so we also need the `!important` here to be able to override the\n",
              "     default hidden behavior on the sphinx rendered scikit-learn.org.\n",
              "     See: https://github.com/scikit-learn/scikit-learn/issues/21755 */\n",
              "  display: inline-block !important;\n",
              "  position: relative;\n",
              "}\n",
              "\n",
              "#sk-container-id-5 div.sk-text-repr-fallback {\n",
              "  display: none;\n",
              "}\n",
              "\n",
              "div.sk-parallel-item,\n",
              "div.sk-serial,\n",
              "div.sk-item {\n",
              "  /* draw centered vertical line to link estimators */\n",
              "  background-image: linear-gradient(var(--sklearn-color-text-on-default-background), var(--sklearn-color-text-on-default-background));\n",
              "  background-size: 2px 100%;\n",
              "  background-repeat: no-repeat;\n",
              "  background-position: center center;\n",
              "}\n",
              "\n",
              "/* Parallel-specific style estimator block */\n",
              "\n",
              "#sk-container-id-5 div.sk-parallel-item::after {\n",
              "  content: \"\";\n",
              "  width: 100%;\n",
              "  border-bottom: 2px solid var(--sklearn-color-text-on-default-background);\n",
              "  flex-grow: 1;\n",
              "}\n",
              "\n",
              "#sk-container-id-5 div.sk-parallel {\n",
              "  display: flex;\n",
              "  align-items: stretch;\n",
              "  justify-content: center;\n",
              "  background-color: var(--sklearn-color-background);\n",
              "  position: relative;\n",
              "}\n",
              "\n",
              "#sk-container-id-5 div.sk-parallel-item {\n",
              "  display: flex;\n",
              "  flex-direction: column;\n",
              "}\n",
              "\n",
              "#sk-container-id-5 div.sk-parallel-item:first-child::after {\n",
              "  align-self: flex-end;\n",
              "  width: 50%;\n",
              "}\n",
              "\n",
              "#sk-container-id-5 div.sk-parallel-item:last-child::after {\n",
              "  align-self: flex-start;\n",
              "  width: 50%;\n",
              "}\n",
              "\n",
              "#sk-container-id-5 div.sk-parallel-item:only-child::after {\n",
              "  width: 0;\n",
              "}\n",
              "\n",
              "/* Serial-specific style estimator block */\n",
              "\n",
              "#sk-container-id-5 div.sk-serial {\n",
              "  display: flex;\n",
              "  flex-direction: column;\n",
              "  align-items: center;\n",
              "  background-color: var(--sklearn-color-background);\n",
              "  padding-right: 1em;\n",
              "  padding-left: 1em;\n",
              "}\n",
              "\n",
              "\n",
              "/* Toggleable style: style used for estimator/Pipeline/ColumnTransformer box that is\n",
              "clickable and can be expanded/collapsed.\n",
              "- Pipeline and ColumnTransformer use this feature and define the default style\n",
              "- Estimators will overwrite some part of the style using the `sk-estimator` class\n",
              "*/\n",
              "\n",
              "/* Pipeline and ColumnTransformer style (default) */\n",
              "\n",
              "#sk-container-id-5 div.sk-toggleable {\n",
              "  /* Default theme specific background. It is overwritten whether we have a\n",
              "  specific estimator or a Pipeline/ColumnTransformer */\n",
              "  background-color: var(--sklearn-color-background);\n",
              "}\n",
              "\n",
              "/* Toggleable label */\n",
              "#sk-container-id-5 label.sk-toggleable__label {\n",
              "  cursor: pointer;\n",
              "  display: block;\n",
              "  width: 100%;\n",
              "  margin-bottom: 0;\n",
              "  padding: 0.5em;\n",
              "  box-sizing: border-box;\n",
              "  text-align: center;\n",
              "}\n",
              "\n",
              "#sk-container-id-5 label.sk-toggleable__label-arrow:before {\n",
              "  /* Arrow on the left of the label */\n",
              "  content: \"▸\";\n",
              "  float: left;\n",
              "  margin-right: 0.25em;\n",
              "  color: var(--sklearn-color-icon);\n",
              "}\n",
              "\n",
              "#sk-container-id-5 label.sk-toggleable__label-arrow:hover:before {\n",
              "  color: var(--sklearn-color-text);\n",
              "}\n",
              "\n",
              "/* Toggleable content - dropdown */\n",
              "\n",
              "#sk-container-id-5 div.sk-toggleable__content {\n",
              "  max-height: 0;\n",
              "  max-width: 0;\n",
              "  overflow: hidden;\n",
              "  text-align: left;\n",
              "  /* unfitted */\n",
              "  background-color: var(--sklearn-color-unfitted-level-0);\n",
              "}\n",
              "\n",
              "#sk-container-id-5 div.sk-toggleable__content.fitted {\n",
              "  /* fitted */\n",
              "  background-color: var(--sklearn-color-fitted-level-0);\n",
              "}\n",
              "\n",
              "#sk-container-id-5 div.sk-toggleable__content pre {\n",
              "  margin: 0.2em;\n",
              "  border-radius: 0.25em;\n",
              "  color: var(--sklearn-color-text);\n",
              "  /* unfitted */\n",
              "  background-color: var(--sklearn-color-unfitted-level-0);\n",
              "}\n",
              "\n",
              "#sk-container-id-5 div.sk-toggleable__content.fitted pre {\n",
              "  /* unfitted */\n",
              "  background-color: var(--sklearn-color-fitted-level-0);\n",
              "}\n",
              "\n",
              "#sk-container-id-5 input.sk-toggleable__control:checked~div.sk-toggleable__content {\n",
              "  /* Expand drop-down */\n",
              "  max-height: 200px;\n",
              "  max-width: 100%;\n",
              "  overflow: auto;\n",
              "}\n",
              "\n",
              "#sk-container-id-5 input.sk-toggleable__control:checked~label.sk-toggleable__label-arrow:before {\n",
              "  content: \"▾\";\n",
              "}\n",
              "\n",
              "/* Pipeline/ColumnTransformer-specific style */\n",
              "\n",
              "#sk-container-id-5 div.sk-label input.sk-toggleable__control:checked~label.sk-toggleable__label {\n",
              "  color: var(--sklearn-color-text);\n",
              "  background-color: var(--sklearn-color-unfitted-level-2);\n",
              "}\n",
              "\n",
              "#sk-container-id-5 div.sk-label.fitted input.sk-toggleable__control:checked~label.sk-toggleable__label {\n",
              "  background-color: var(--sklearn-color-fitted-level-2);\n",
              "}\n",
              "\n",
              "/* Estimator-specific style */\n",
              "\n",
              "/* Colorize estimator box */\n",
              "#sk-container-id-5 div.sk-estimator input.sk-toggleable__control:checked~label.sk-toggleable__label {\n",
              "  /* unfitted */\n",
              "  background-color: var(--sklearn-color-unfitted-level-2);\n",
              "}\n",
              "\n",
              "#sk-container-id-5 div.sk-estimator.fitted input.sk-toggleable__control:checked~label.sk-toggleable__label {\n",
              "  /* fitted */\n",
              "  background-color: var(--sklearn-color-fitted-level-2);\n",
              "}\n",
              "\n",
              "#sk-container-id-5 div.sk-label label.sk-toggleable__label,\n",
              "#sk-container-id-5 div.sk-label label {\n",
              "  /* The background is the default theme color */\n",
              "  color: var(--sklearn-color-text-on-default-background);\n",
              "}\n",
              "\n",
              "/* On hover, darken the color of the background */\n",
              "#sk-container-id-5 div.sk-label:hover label.sk-toggleable__label {\n",
              "  color: var(--sklearn-color-text);\n",
              "  background-color: var(--sklearn-color-unfitted-level-2);\n",
              "}\n",
              "\n",
              "/* Label box, darken color on hover, fitted */\n",
              "#sk-container-id-5 div.sk-label.fitted:hover label.sk-toggleable__label.fitted {\n",
              "  color: var(--sklearn-color-text);\n",
              "  background-color: var(--sklearn-color-fitted-level-2);\n",
              "}\n",
              "\n",
              "/* Estimator label */\n",
              "\n",
              "#sk-container-id-5 div.sk-label label {\n",
              "  font-family: monospace;\n",
              "  font-weight: bold;\n",
              "  display: inline-block;\n",
              "  line-height: 1.2em;\n",
              "}\n",
              "\n",
              "#sk-container-id-5 div.sk-label-container {\n",
              "  text-align: center;\n",
              "}\n",
              "\n",
              "/* Estimator-specific */\n",
              "#sk-container-id-5 div.sk-estimator {\n",
              "  font-family: monospace;\n",
              "  border: 1px dotted var(--sklearn-color-border-box);\n",
              "  border-radius: 0.25em;\n",
              "  box-sizing: border-box;\n",
              "  margin-bottom: 0.5em;\n",
              "  /* unfitted */\n",
              "  background-color: var(--sklearn-color-unfitted-level-0);\n",
              "}\n",
              "\n",
              "#sk-container-id-5 div.sk-estimator.fitted {\n",
              "  /* fitted */\n",
              "  background-color: var(--sklearn-color-fitted-level-0);\n",
              "}\n",
              "\n",
              "/* on hover */\n",
              "#sk-container-id-5 div.sk-estimator:hover {\n",
              "  /* unfitted */\n",
              "  background-color: var(--sklearn-color-unfitted-level-2);\n",
              "}\n",
              "\n",
              "#sk-container-id-5 div.sk-estimator.fitted:hover {\n",
              "  /* fitted */\n",
              "  background-color: var(--sklearn-color-fitted-level-2);\n",
              "}\n",
              "\n",
              "/* Specification for estimator info (e.g. \"i\" and \"?\") */\n",
              "\n",
              "/* Common style for \"i\" and \"?\" */\n",
              "\n",
              ".sk-estimator-doc-link,\n",
              "a:link.sk-estimator-doc-link,\n",
              "a:visited.sk-estimator-doc-link {\n",
              "  float: right;\n",
              "  font-size: smaller;\n",
              "  line-height: 1em;\n",
              "  font-family: monospace;\n",
              "  background-color: var(--sklearn-color-background);\n",
              "  border-radius: 1em;\n",
              "  height: 1em;\n",
              "  width: 1em;\n",
              "  text-decoration: none !important;\n",
              "  margin-left: 1ex;\n",
              "  /* unfitted */\n",
              "  border: var(--sklearn-color-unfitted-level-1) 1pt solid;\n",
              "  color: var(--sklearn-color-unfitted-level-1);\n",
              "}\n",
              "\n",
              ".sk-estimator-doc-link.fitted,\n",
              "a:link.sk-estimator-doc-link.fitted,\n",
              "a:visited.sk-estimator-doc-link.fitted {\n",
              "  /* fitted */\n",
              "  border: var(--sklearn-color-fitted-level-1) 1pt solid;\n",
              "  color: var(--sklearn-color-fitted-level-1);\n",
              "}\n",
              "\n",
              "/* On hover */\n",
              "div.sk-estimator:hover .sk-estimator-doc-link:hover,\n",
              ".sk-estimator-doc-link:hover,\n",
              "div.sk-label-container:hover .sk-estimator-doc-link:hover,\n",
              ".sk-estimator-doc-link:hover {\n",
              "  /* unfitted */\n",
              "  background-color: var(--sklearn-color-unfitted-level-3);\n",
              "  color: var(--sklearn-color-background);\n",
              "  text-decoration: none;\n",
              "}\n",
              "\n",
              "div.sk-estimator.fitted:hover .sk-estimator-doc-link.fitted:hover,\n",
              ".sk-estimator-doc-link.fitted:hover,\n",
              "div.sk-label-container:hover .sk-estimator-doc-link.fitted:hover,\n",
              ".sk-estimator-doc-link.fitted:hover {\n",
              "  /* fitted */\n",
              "  background-color: var(--sklearn-color-fitted-level-3);\n",
              "  color: var(--sklearn-color-background);\n",
              "  text-decoration: none;\n",
              "}\n",
              "\n",
              "/* Span, style for the box shown on hovering the info icon */\n",
              ".sk-estimator-doc-link span {\n",
              "  display: none;\n",
              "  z-index: 9999;\n",
              "  position: relative;\n",
              "  font-weight: normal;\n",
              "  right: .2ex;\n",
              "  padding: .5ex;\n",
              "  margin: .5ex;\n",
              "  width: min-content;\n",
              "  min-width: 20ex;\n",
              "  max-width: 50ex;\n",
              "  color: var(--sklearn-color-text);\n",
              "  box-shadow: 2pt 2pt 4pt #999;\n",
              "  /* unfitted */\n",
              "  background: var(--sklearn-color-unfitted-level-0);\n",
              "  border: .5pt solid var(--sklearn-color-unfitted-level-3);\n",
              "}\n",
              "\n",
              ".sk-estimator-doc-link.fitted span {\n",
              "  /* fitted */\n",
              "  background: var(--sklearn-color-fitted-level-0);\n",
              "  border: var(--sklearn-color-fitted-level-3);\n",
              "}\n",
              "\n",
              ".sk-estimator-doc-link:hover span {\n",
              "  display: block;\n",
              "}\n",
              "\n",
              "/* \"?\"-specific style due to the `<a>` HTML tag */\n",
              "\n",
              "#sk-container-id-5 a.estimator_doc_link {\n",
              "  float: right;\n",
              "  font-size: 1rem;\n",
              "  line-height: 1em;\n",
              "  font-family: monospace;\n",
              "  background-color: var(--sklearn-color-background);\n",
              "  border-radius: 1rem;\n",
              "  height: 1rem;\n",
              "  width: 1rem;\n",
              "  text-decoration: none;\n",
              "  /* unfitted */\n",
              "  color: var(--sklearn-color-unfitted-level-1);\n",
              "  border: var(--sklearn-color-unfitted-level-1) 1pt solid;\n",
              "}\n",
              "\n",
              "#sk-container-id-5 a.estimator_doc_link.fitted {\n",
              "  /* fitted */\n",
              "  border: var(--sklearn-color-fitted-level-1) 1pt solid;\n",
              "  color: var(--sklearn-color-fitted-level-1);\n",
              "}\n",
              "\n",
              "/* On hover */\n",
              "#sk-container-id-5 a.estimator_doc_link:hover {\n",
              "  /* unfitted */\n",
              "  background-color: var(--sklearn-color-unfitted-level-3);\n",
              "  color: var(--sklearn-color-background);\n",
              "  text-decoration: none;\n",
              "}\n",
              "\n",
              "#sk-container-id-5 a.estimator_doc_link.fitted:hover {\n",
              "  /* fitted */\n",
              "  background-color: var(--sklearn-color-fitted-level-3);\n",
              "}\n",
              "</style><div id=\"sk-container-id-5\" class=\"sk-top-container\"><div class=\"sk-text-repr-fallback\"><pre>LabelBinarizer()</pre><b>In a Jupyter environment, please rerun this cell to show the HTML representation or trust the notebook. <br />On GitHub, the HTML representation is unable to render, please try loading this page with nbviewer.org.</b></div><div class=\"sk-container\" hidden><div class=\"sk-item\"><div class=\"sk-estimator fitted sk-toggleable\"><input class=\"sk-toggleable__control sk-hidden--visually\" id=\"sk-estimator-id-5\" type=\"checkbox\" checked><label for=\"sk-estimator-id-5\" class=\"sk-toggleable__label fitted sk-toggleable__label-arrow fitted\">&nbsp;&nbsp;LabelBinarizer<a class=\"sk-estimator-doc-link fitted\" rel=\"noreferrer\" target=\"_blank\" href=\"https://scikit-learn.org/1.5/modules/generated/sklearn.preprocessing.LabelBinarizer.html\">?<span>Documentation for LabelBinarizer</span></a><span class=\"sk-estimator-doc-link fitted\">i<span>Fitted</span></span></label><div class=\"sk-toggleable__content fitted\"><pre>LabelBinarizer()</pre></div> </div></div></div></div>"
            ],
            "text/plain": [
              "LabelBinarizer()"
            ]
          },
          "execution_count": 32,
          "metadata": {},
          "output_type": "execute_result"
        }
      ],
      "source": [
        "label_processor_obj = label_processor(df['sentiment'])\n",
        "label_processor_obj"
      ]
    },
    {
      "cell_type": "code",
      "execution_count": 33,
      "metadata": {
        "id": "kkyTpKY-ceU3"
      },
      "outputs": [],
      "source": [
        "df['sentiment'] = label_processor_obj.transform(df['sentiment'])"
      ]
    },
    {
      "cell_type": "code",
      "execution_count": 34,
      "metadata": {
        "colab": {
          "base_uri": "https://localhost:8080/",
          "height": 175
        },
        "id": "l49oqLIwcp67",
        "outputId": "fa01c21f-97bf-4308-e99d-d517bd856189"
      },
      "outputs": [
        {
          "data": {
            "text/html": [
              "<div>\n",
              "<style scoped>\n",
              "    .dataframe tbody tr th:only-of-type {\n",
              "        vertical-align: middle;\n",
              "    }\n",
              "\n",
              "    .dataframe tbody tr th {\n",
              "        vertical-align: top;\n",
              "    }\n",
              "\n",
              "    .dataframe thead th {\n",
              "        text-align: right;\n",
              "    }\n",
              "</style>\n",
              "<table border=\"1\" class=\"dataframe\">\n",
              "  <thead>\n",
              "    <tr style=\"text-align: right;\">\n",
              "      <th></th>\n",
              "      <th>review</th>\n",
              "      <th>sentiment</th>\n",
              "    </tr>\n",
              "  </thead>\n",
              "  <tbody>\n",
              "    <tr>\n",
              "      <th>0</th>\n",
              "      <td>one of the other reviewers has mentioned that ...</td>\n",
              "      <td>1</td>\n",
              "    </tr>\n",
              "    <tr>\n",
              "      <th>1</th>\n",
              "      <td>a wonderful little production the filming tech...</td>\n",
              "      <td>1</td>\n",
              "    </tr>\n",
              "    <tr>\n",
              "      <th>2</th>\n",
              "      <td>i thought this was a wonderful way to spend ti...</td>\n",
              "      <td>1</td>\n",
              "    </tr>\n",
              "    <tr>\n",
              "      <th>3</th>\n",
              "      <td>basically theres a family where a little boy j...</td>\n",
              "      <td>0</td>\n",
              "    </tr>\n",
              "  </tbody>\n",
              "</table>\n",
              "</div>"
            ],
            "text/plain": [
              "                                              review  sentiment\n",
              "0  one of the other reviewers has mentioned that ...          1\n",
              "1  a wonderful little production the filming tech...          1\n",
              "2  i thought this was a wonderful way to spend ti...          1\n",
              "3  basically theres a family where a little boy j...          0"
            ]
          },
          "execution_count": 34,
          "metadata": {},
          "output_type": "execute_result"
        }
      ],
      "source": [
        "df[:4]"
      ]
    },
    {
      "cell_type": "code",
      "execution_count": 35,
      "metadata": {
        "colab": {
          "base_uri": "https://localhost:8080/"
        },
        "id": "IsiPJTJKcuqA",
        "outputId": "e3e0cf5a-3678-459e-960b-64de68f60d2f"
      },
      "outputs": [
        {
          "name": "stdout",
          "output_type": "stream",
          "text": [
            "sentiment encoded: [1 1 1 0]\n",
            "original sentiment: ['positive' 'positive' 'positive' 'negative']\n"
          ]
        }
      ],
      "source": [
        "print(f\"sentiment encoded: {df.loc[:3, 'sentiment'].values}\")\n",
        "print(f\"original sentiment: {label_processor_obj.inverse_transform(df.loc[:3, 'sentiment'])}\")"
      ]
    },
    {
      "cell_type": "code",
      "execution_count": 17,
      "metadata": {
        "id": "kyA-EqTOdV5A"
      },
      "outputs": [],
      "source": [
        "reviews = df['review']\n",
        "sentiments = df['sentiment']"
      ]
    },
    {
      "cell_type": "code",
      "execution_count": 18,
      "metadata": {
        "id": "gS6sx7M7dy9F"
      },
      "outputs": [],
      "source": [
        "VOCAB_SIZE=10000\n",
        "OOV_TOKEN=\"<UNK>\"\n",
        "\n",
        "tokenizer = Tokenizer(num_words=VOCAB_SIZE, oov_token=OOV_TOKEN)\n",
        "tokenizer.fit_on_texts(reviews)\n",
        "sequences = tokenizer.texts_to_sequences(reviews)"
      ]
    },
    {
      "cell_type": "code",
      "execution_count": 19,
      "metadata": {
        "id": "Px27j3ldeCjf"
      },
      "outputs": [],
      "source": [
        "decode_text_dicts = tokenizer.index_word"
      ]
    },
    {
      "cell_type": "code",
      "execution_count": 20,
      "metadata": {
        "colab": {
          "base_uri": "https://localhost:8080/"
        },
        "id": "s5dLiFCBeIq-",
        "outputId": "b033c51f-7cee-4b2f-cb95-8fa8ac32d6fa"
      },
      "outputs": [
        {
          "data": {
            "text/plain": [
              "198024"
            ]
          },
          "execution_count": 20,
          "metadata": {},
          "output_type": "execute_result"
        }
      ],
      "source": [
        "len(decode_text_dicts)"
      ]
    },
    {
      "cell_type": "code",
      "execution_count": 21,
      "metadata": {
        "colab": {
          "base_uri": "https://localhost:8080/"
        },
        "id": "rEftF8n9eV_f",
        "outputId": "684dc0ea-0852-4fc3-b57c-e46d106b942a"
      },
      "outputs": [
        {
          "name": "stdout",
          "output_type": "stream",
          "text": [
            "1 : <UNK>\n",
            "2 : the\n",
            "3 : and\n",
            "4 : a\n",
            "5 : of\n",
            "6 : to\n",
            "7 : is\n",
            "8 : in\n",
            "9 : it\n",
            "...\n"
          ]
        }
      ],
      "source": [
        "for key, value in decode_text_dicts.items():\n",
        "    if key < 10:\n",
        "        print(f\"{key} : {value}\")\n",
        "print('...')"
      ]
    },
    {
      "cell_type": "code",
      "execution_count": 22,
      "metadata": {
        "colab": {
          "base_uri": "https://localhost:8080/"
        },
        "id": "nAXcDT5ye6M_",
        "outputId": "5bf88b01-2e28-4f6d-c3b6-30ed1bcea5a6"
      },
      "outputs": [
        {
          "name": "stdout",
          "output_type": "stream",
          "text": [
            "Average length: 228\n",
            "Max length: 2464\n",
            "Min length: 4\n"
          ]
        }
      ],
      "source": [
        "avg_len = round(sum([len(seq) for seq in sequences]) / len(sequences))\n",
        "max_len = max([len(seq) for seq in sequences])\n",
        "min_len = min([len(seq) for seq in sequences])\n",
        "\n",
        "print(f\"Average length: {avg_len}\")\n",
        "print(f\"Max length: {max_len}\")\n",
        "print(f\"Min length: {min_len}\")"
      ]
    },
    {
      "cell_type": "code",
      "execution_count": 23,
      "metadata": {
        "colab": {
          "base_uri": "https://localhost:8080/"
        },
        "id": "EHvMi_DSfHsY",
        "outputId": "68f1303f-7693-43f3-89d2-fcc907725609"
      },
      "outputs": [
        {
          "name": "stdout",
          "output_type": "stream",
          "text": [
            "row index: 413 | sentiment: NEGATIVE | review: a rating of 1 does not begin to express how dull depressing and relentlessly bad this movie is |  \n",
            "row index: 1417 | sentiment: NEGATIVE | review: hated it with all my being worst movie ever mentally scarred help me it was that badtrust me |  \n",
            "row index: 3709 | sentiment: NEGATIVE | review: long boring blasphemous never have i been so glad to see ending credits roll |  \n",
            "row index: 13315 | sentiment: POSITIVE | review: this is a good film this is very funny yet after this film there were no good ernest films |  \n",
            "row index: 18424 | sentiment: NEGATIVE | review: the characters are unlikeable and the script is awful its a waste of the talents of deneuve and auteuil |  \n",
            "row index: 20274 | sentiment: NEGATIVE | review: youd better choose paul verhoevens even if you have watched it |  \n",
            "row index: 24940 | sentiment: POSITIVE | review: i dont know why i like this movie so well but i never get tired of watching it |  \n",
            "row index: 27680 | sentiment: POSITIVE | review: this is a great movie too bad it is not available on home video |  \n",
            "row index: 30598 | sentiment: POSITIVE | review: if you like pauly shore youll love son in law if you hate pauly shore then welli liked it |  \n",
            "row index: 30763 | sentiment: POSITIVE | review: just love the interplay between two great characters of stage screen veidt barrymore |  \n",
            "row index: 31761 | sentiment: NEGATIVE | review: ming the merciless does a little bardwork and a movie most foul |  \n",
            "row index: 34692 | sentiment: POSITIVE | review: this is the definitive movie version of hamlet branagh cuts nothing but there are no wasted moments |  \n",
            "row index: 34817 | sentiment: NEGATIVE | review: comment this movie is impossible is terrible very improbable bad interpretation e direction not look |  \n",
            "row index: 36008 | sentiment: POSITIVE | review: a mesmerizing film that certainly keeps your attention ben daniels is fascinating and courageous to watch |  \n",
            "row index: 39182 | sentiment: POSITIVE | review: smallville episode justice is the best episode of smallville its my favorite episode of smallville |  \n",
            "row index: 40038 | sentiment: POSITIVE | review: without a doubt one of tobe hoppors best epic storytellng great special effects and the spacegirl vamp me baby |  \n",
            "row index: 42356 | sentiment: POSITIVE | review: add this little gem to your list of holiday regulars it issweet funny and endearing |  \n",
            "row index: 42626 | sentiment: NEGATIVE | review: no comment stupid movie acting average or worse screenplay no sense at all skip it |  \n",
            "row index: 43607 | sentiment: POSITIVE | review: absolutely fantastic whatever i say wouldnt do this underrated movie the justice it deserves watch it now fantastic |  \n",
            "row index: 48448 | sentiment: POSITIVE | review: adrian pasdar is excellent is this film he makes a fascinating woman |  \n",
            "row index: 48927 | sentiment: POSITIVE | review: smallville episode justice is the best episode of smallville its my favorite episode of smallville |  \n",
            "\n",
            "count positive: 13\n",
            "count negative: 8\n",
            "number of reviews 21\n"
          ]
        }
      ],
      "source": [
        "count_positive = 0\n",
        "count_negative = 0\n",
        "\n",
        "for row, (sequence, sentiment, review) in enumerate(zip(sequences, sentiments, reviews)):\n",
        "  if (len(sequence) > 10) and (len(sequence) < 20):\n",
        "  # if len(sequence) == 4:\n",
        "    print(f'row index: {row} |', end=' ')\n",
        "    print(f'sentiment: {lb.inverse_transform(np.array(sentiment))[0].upper()} |', end=' ')\n",
        "    print(f'review: {review} | ', end=' ')\n",
        "    # for index in sequence:\n",
        "    #   print(f'{decode_text_dicts[index]}', end=' ')\n",
        "    print()\n",
        "\n",
        "    if sentiment == 1:\n",
        "      count_positive += 1\n",
        "    else:\n",
        "      count_negative += 1\n",
        "\n",
        "print()\n",
        "print(f'count positive: {count_positive}')\n",
        "print(f'count negative: {count_negative}')\n",
        "print(f'number of reviews {count_positive + count_negative}')"
      ]
    },
    {
      "cell_type": "code",
      "execution_count": 24,
      "metadata": {
        "id": "QMLqaxY1hTe7"
      },
      "outputs": [],
      "source": [
        "imdb_reviews_tf_dataset = tf.data.Dataset.from_tensor_slices((reviews, sentiments))"
      ]
    },
    {
      "cell_type": "code",
      "execution_count": 25,
      "metadata": {
        "colab": {
          "base_uri": "https://localhost:8080/"
        },
        "id": "xUx0Acx0k4TK",
        "outputId": "cff02159-18d0-4cb4-da76-690f18ded5aa"
      },
      "outputs": [
        {
          "name": "stdout",
          "output_type": "stream",
          "text": [
            "info train data: <_TensorSliceDataset element_spec=(TensorSpec(shape=(), dtype=tf.string, name=None), TensorSpec(shape=(), dtype=tf.int64, name=None))>\n",
            "number of train data: 50000\n"
          ]
        }
      ],
      "source": [
        "print(f'info train data: {imdb_reviews_tf_dataset}')\n",
        "print(f'number of train data: {len(imdb_reviews_tf_dataset)}')"
      ]
    },
    {
      "cell_type": "code",
      "execution_count": 26,
      "metadata": {
        "colab": {
          "base_uri": "https://localhost:8080/",
          "height": 639
        },
        "id": "4r8jxay5k96c",
        "outputId": "3012cdf9-c97c-4051-80fe-91b2bb9ae022"
      },
      "outputs": [
        {
          "name": "stdout",
          "output_type": "stream",
          "text": [
            "==========================FEATURE===========================\n"
          ]
        },
        {
          "data": {
            "application/vnd.google.colaboratory.intrinsic+json": {
              "type": "string"
            },
            "text/plain": [
              "'DATA: rko had a reputation for making folksy homespun pieces of americanaanne shirley as dawn oday had been in films since she was a toddler by 1933 she was in limbo having played ann dvorak as a child in three on a match 1932 and a flower girl in both this side of heaven and the key both in 1934 george nicholls jnr remembered annes work from a previous film and thats how she got this part she also adopted anne shirley as her stage name the memorable stories are there lady of shallot in a leaky boat the stolen brooch the red hair incident anne was so right for the role of the chatty heartwarming orphan she was heartbreaking in her intensity her eagerness to please and also her fiery temper op heggie was wonderful as the understanding matthew cuthbert and helen westley was fine as the firm marilla tom brown was an excellent gilbert blythe gertrude messinger who had also been in films as a small child was fine as diana barry sara haden proved she could play someone other than aunt millie in the andy hardy series was mrs barry'"
            ]
          },
          "metadata": {},
          "output_type": "display_data"
        },
        {
          "name": "stdout",
          "output_type": "stream",
          "text": [
            "\n"
          ]
        },
        {
          "data": {
            "application/vnd.google.colaboratory.intrinsic+json": {
              "type": "string"
            },
            "text/plain": [
              "'COUNT VECTOR: [8624, 67, 4, 2617, 16, 232, 1, 1, 1261, 5, 1, 4453, 14, 3242, 1, 67, 74, 8, 95, 235, 59, 13, 4, 1, 32, 6249, 59, 13, 8, 1, 260, 251, 2147, 1, 14, 4, 531, 8, 273, 20, 4, 1055, 8405, 3, 4, 6260, 247, 8, 193, 11, 482, 5, 2109, 3, 2, 1331, 193, 8, 7199, 748, 1, 1, 2002, 1, 158, 36, 4, 905, 19, 3, 177, 85, 59, 185, 11, 169, 59, 84, 5240, 1805, 4453, 14, 41, 914, 387, 2, 897, 569, 23, 48, 803, 5, 1, 8, 4, 1, 1763, 2, 2573, 1, 2, 813, 1105, 3305, 1805, 13, 38, 203, 16, 2, 215, 5, 2, 1, 5406, 8428, 59, 13, 5219, 8, 41, 3053, 41, 1, 6, 651, 3, 84, 41, 8864, 8806, 1, 1, 13, 391, 14, 2, 1741, 3742, 1, 3, 2732, 1, 13, 481, 14, 2, 5124, 1, 867, 1898, 13, 33, 317, 6481, 1, 1, 1, 35, 67, 84, 74, 8, 95, 14, 4, 390, 531, 13, 481, 14, 5168, 2806, 6192, 1, 2164, 59, 97, 286, 291, 80, 71, 3277, 1, 8, 2, 2136, 3171, 201, 13, 1854, 2806]'"
            ]
          },
          "metadata": {},
          "output_type": "display_data"
        },
        {
          "name": "stdout",
          "output_type": "stream",
          "text": [
            "\n",
            "DATA SHAPE: ()\n",
            "DATA DTYPE: <dtype: 'string'>\n",
            "\n",
            "===========================LABEL============================\n",
            "LABEL: 1 --> positive\n",
            "LABEL SHAPE: ()\n",
            "LABEL DTYPE: <dtype: 'int64'>\n",
            "\n",
            "decode text:  "
          ]
        },
        {
          "data": {
            "application/vnd.google.colaboratory.intrinsic+json": {
              "type": "string"
            },
            "text/plain": [
              "'|8624:rko| |67:had| |4:a| |2617:reputation| |16:for| |232:making| |1:<UNK>| |1:<UNK>| |1261:pieces| |5:of| |1:<UNK>| |4453:shirley| |14:as| |3242:dawn| |1:<UNK>| |67:had| |74:been| |8:in| |95:films| |235:since| |59:she| |13:was| |4:a| |1:<UNK>| |32:by| |6249:1933| |59:she| |13:was| |8:in| |1:<UNK>| |260:having| |251:played| |2147:ann| |1:<UNK>| |14:as| |4:a| |531:child| |8:in| |273:three| |20:on| |4:a| |1055:match| |8405:1932| |3:and| |4:a| |6260:flower| |247:girl| |8:in| |193:both| |11:this| |482:side| |5:of| |2109:heaven| |3:and| |2:the| |1331:key| |193:both| |8:in| |7199:1934| |748:george| |1:<UNK>| |1:<UNK>| |2002:remembered| |1:<UNK>| |158:work| |36:from| |4:a| |905:previous| |19:film| |3:and| |177:thats| |85:how| |59:she| |185:got| |11:this| |169:part| |59:she| |84:also| |5240:adopted| |1805:anne| |4453:shirley| |14:as| |41:her| |914:stage| |387:name| |2:the| |897:memorable| |569:stories| |23:are| |48:there| |803:lady| |5:of| |1:<UNK>| |8:in| |4:a| |1:<UNK>| |1763:boat| |2:the| |2573:stolen| |1:<UNK>| |2:the| |813:red| |1105:hair| |3305:incident| |1805:anne| |13:was| |38:so| |203:right| |16:for| |2:the| |215:role| |5:of| |2:the| |1:<UNK>| |5406:heartwarming| |8428:orphan| |59:she| |13:was| |5219:heartbreaking| |8:in| |41:her| |3053:intensity| |41:her| |1:<UNK>| |6:to| |651:please| |3:and| |84:also| |41:her| |8864:fiery| |8806:temper| |1:<UNK>| |1:<UNK>| |13:was| |391:wonderful| |14:as| |2:the| |1741:understanding| |3742:matthew| |1:<UNK>| |3:and| |2732:helen| |1:<UNK>| |13:was| |481:fine| |14:as| |2:the| |5124:firm| |1:<UNK>| |867:tom| |1898:brown| |13:was| |33:an| |317:excellent| |6481:gilbert| |1:<UNK>| |1:<UNK>| |1:<UNK>| |35:who| |67:had| |84:also| |74:been| |8:in| |95:films| |14:as| |4:a| |390:small| |531:child| |13:was| |481:fine| |14:as| |5168:diana| |2806:barry| |6192:sara| |1:<UNK>| |2164:proved| |59:she| |97:could| |286:play| |291:someone| |80:other| |71:than| |3277:aunt| |1:<UNK>| |8:in| |2:the| |2136:andy| |3171:hardy| |201:series| |13:was| |1854:mrs| |2806:barry|'"
            ]
          },
          "metadata": {},
          "output_type": "display_data"
        }
      ],
      "source": [
        "sequence_and_word_list = []\n",
        "for data, label in imdb_reviews_tf_dataset.shuffle(buffer_size=len(imdb_reviews_tf_dataset)).take(1):\n",
        "    tf_data_label_str = label_processor_obj.inverse_transform(np.array(label))\n",
        "    tf_data_text_lower = tf.strings.lower(data)\n",
        "    tf_data_byte_to_text = tf.compat.as_text(tf_data_text_lower.numpy())\n",
        "    tf_data_sequences = tokenizer.texts_to_sequences([tf_data_byte_to_text])\n",
        "\n",
        "    print(f\"{'FEATURE'.center(60, '=')}\")\n",
        "    display(f'DATA: {tf_data_byte_to_text}')\n",
        "    print()\n",
        "    display(f'COUNT VECTOR: {tf_data_sequences[0]}')\n",
        "    print()\n",
        "    print(f'DATA SHAPE: {data.shape}')\n",
        "    print(f'DATA DTYPE: {data.dtype}')\n",
        "\n",
        "    print()\n",
        "    print(f\"{'LABEL'.center(60, '=')}\")\n",
        "    print(f'LABEL: {label} --> {tf_data_label_str[0]}')\n",
        "    print(f'LABEL SHAPE: {label.shape}')\n",
        "    print(f'LABEL DTYPE: {label.dtype}')\n",
        "\n",
        "    print()\n",
        "    print('decode text: ', end=' ')\n",
        "    for index in tf_data_sequences[0]:\n",
        "        sequence_and_word_list.append(f'|{index}:{decode_text_dicts[index]}|')\n",
        "    display(' '.join(sequence_and_word_list))"
      ]
    },
    {
      "cell_type": "code",
      "execution_count": 27,
      "metadata": {
        "id": "rcETNLiArMt7"
      },
      "outputs": [],
      "source": [
        "# Function to tokenize and pad sequences\n",
        "def tokenize_and_pad(text, max_pad):\n",
        "    text_lower = tf.strings.lower(text)  # Lowercase the text\n",
        "    byte_to_text = tf.compat.as_text(text_lower.numpy())  # Ensure that the input is a string\n",
        "    sequences = tokenizer.texts_to_sequences([byte_to_text])  # Convert text to sequence of tokens\n",
        "    padded = pad_sequences(sequences, maxlen=max_pad, padding='post')  # Pad sequences to the same length\n",
        "    return padded[0]\n",
        "\n",
        "# Wrapper to use the function with `map`\n",
        "def tf_tokenize_and_pad(text, label, max_pad):\n",
        "    label = tf.cast(label, tf.int32)\n",
        "    text_tokenized = tf.py_function(tokenize_and_pad, inp=[text, max_pad], Tout=(tf.int32))\n",
        "    text_tokenized.set_shape((max_pad, ))\n",
        "    return text_tokenized, label"
      ]
    },
    {
      "cell_type": "code",
      "execution_count": 28,
      "metadata": {
        "id": "_98vDzOPrNfD"
      },
      "outputs": [],
      "source": [
        "imdb_reviews_tokenized = imdb_reviews_tf_dataset.map(\n",
        "    map_func= lambda review, sentiment:\n",
        "        tf_tokenize_and_pad(\n",
        "            text=review,\n",
        "            label=sentiment,\n",
        "            max_pad=avg_len\n",
        "        ),\n",
        "    num_parallel_calls=tf.data.AUTOTUNE\n",
        ")\n",
        "imdb_reviews_tokenized_cached = imdb_reviews_tokenized.cache()"
      ]
    },
    {
      "cell_type": "code",
      "execution_count": 29,
      "metadata": {
        "colab": {
          "base_uri": "https://localhost:8080/"
        },
        "id": "Hmqz8bSVrR4l",
        "outputId": "adfdad9c-f045-4654-c4c2-3baf553282b9"
      },
      "outputs": [
        {
          "name": "stdout",
          "output_type": "stream",
          "text": [
            "info train data: <CacheDataset element_spec=(TensorSpec(shape=(228,), dtype=tf.int32, name=None), TensorSpec(shape=(), dtype=tf.int32, name=None))>\n",
            "number of train data: 50000\n"
          ]
        }
      ],
      "source": [
        "print(f'info train data: {imdb_reviews_tokenized_cached}')\n",
        "print(f'number of train data: {len(imdb_reviews_tokenized_cached)}')"
      ]
    },
    {
      "cell_type": "code",
      "execution_count": 40,
      "metadata": {
        "id": "GJIO2s2JrVo4"
      },
      "outputs": [],
      "source": [
        "# Length of the vocabulary in chars\n",
        "# The embedding dimension\n",
        "EMBEDDING_DIM = 64\n",
        "# Number of RNN units\n",
        "RNN_UNITS = 64\n",
        "# batch size\n",
        "BATCH_SIZE = 64\n",
        "# Model Path\n",
        "MODEL_PATH = \"../model/imdb_sentiment_review_lstm_revision.keras\""
      ]
    },
    {
      "cell_type": "code",
      "execution_count": 75,
      "metadata": {
        "id": "T6Z_Km8Jtgoo"
      },
      "outputs": [],
      "source": [
        "splitter = DatasetSplitter(batch_size=BATCH_SIZE, train_split=0.8, seed=42)"
      ]
    },
    {
      "cell_type": "code",
      "execution_count": 76,
      "metadata": {
        "colab": {
          "base_uri": "https://localhost:8080/"
        },
        "id": "KMyrHP5atlGY",
        "outputId": "6e9a2ae1-d017-4cd0-f66d-7e431067f4f8"
      },
      "outputs": [
        {
          "name": "stdout",
          "output_type": "stream",
          "text": [
            "=================================== Original Dataset ===================================\n",
            "Info data: <CacheDataset element_spec=(TensorSpec(shape=(228,), dtype=tf.int32, name=None), TensorSpec(shape=(), dtype=tf.int32, name=None))>\n",
            "Number of data: 50000\n",
            "BATCH SIZE: 64\n",
            "=================================== Training Dataset ===================================\n",
            "Info data: <_TakeDataset element_spec=(TensorSpec(shape=(None, 228), dtype=tf.int32, name=None), TensorSpec(shape=(None,), dtype=tf.int32, name=None))>\n",
            "Training Split: 0.8\n",
            "Number of data: 625\n",
            "=================================== Validation Dataset ===================================\n",
            "Info data: <_SkipDataset element_spec=(TensorSpec(shape=(None, 228), dtype=tf.int32, name=None), TensorSpec(shape=(None,), dtype=tf.int32, name=None))>\n",
            "Validation Split: 0.2\n",
            "Number of data: 157\n"
          ]
        }
      ],
      "source": [
        "imdb_reciews_tf_data_train, imdb_reciews_tf_data_valid = splitter.split_and_prepare(imdb_reviews_tokenized_cached)"
      ]
    },
    {
      "cell_type": "code",
      "execution_count": 78,
      "metadata": {
        "id": "mgU7Fw0Ctqqg"
      },
      "outputs": [],
      "source": [
        "def build_model_lstm(vocab_size, embedding_dim):\n",
        "    # Input layer\n",
        "    inputs = tf.keras.Input(shape=(None,), dtype=tf.int32, name='inputs')\n",
        "\n",
        "    # Embedding layer\n",
        "    x = tf.keras.layers.Embedding(vocab_size, embedding_dim, mask_zero=True, name='embedding')(inputs)\n",
        "\n",
        "    # LSTM layer\n",
        "    x = tf.keras.layers.LSTM(64, name='lstm')(x)\n",
        "\n",
        "    # Dense layer with sigmoid activation\n",
        "    outputs = tf.keras.layers.Dense(1, activation='sigmoid', name='output')(x)\n",
        "\n",
        "    # Create the model\n",
        "    model = tf.keras.Model(inputs=inputs, outputs=outputs, name='lstm_model')\n",
        "\n",
        "    return model\n",
        "\n",
        "  # def build_model_bilstm(vocab_size, embedding_dim):\n",
        "  #   # Input layer\n",
        "  #   inputs = tf.keras.Input(shape=(None,), dtype=tf.int32, name='inputs')\n",
        "\n",
        "  #   # Embedding layer\n",
        "  #   x = tf.keras.layers.Embedding(vocab_size, embedding_dim, mask_zero=True, name='embedding')(inputs)\n",
        "\n",
        "  #   # Bidirectional LSTM layers\n",
        "  #   x = tf.keras.layers.Bidirectional(\n",
        "  #       tf.keras.layers.LSTM(64), name='bilstm_1'\n",
        "  #   )(x)\n",
        "\n",
        "  #   # Dense layer with sigmoid activation\n",
        "  #   outputs = tf.keras.layers.Dense(1, activation='sigmoid', name='output')(x)\n",
        "\n",
        "  #   # Create the model\n",
        "  #   model = tf.keras.Model(inputs=inputs, outputs=outputs, name='lstm_model')\n",
        "\n",
        "  #   return model"
      ]
    },
    {
      "cell_type": "code",
      "execution_count": 79,
      "metadata": {
        "colab": {
          "base_uri": "https://localhost:8080/",
          "height": 305
        },
        "id": "QTfLldfiuM5W",
        "outputId": "8c82e467-4f82-4cfd-8cc3-879b383dbdce"
      },
      "outputs": [
        {
          "data": {
            "text/html": [
              "<pre style=\"white-space:pre;overflow-x:auto;line-height:normal;font-family:Menlo,'DejaVu Sans Mono',consolas,'Courier New',monospace\"><span style=\"font-weight: bold\">Model: \"lstm_model\"</span>\n",
              "</pre>\n"
            ],
            "text/plain": [
              "\u001b[1mModel: \"lstm_model\"\u001b[0m\n"
            ]
          },
          "metadata": {},
          "output_type": "display_data"
        },
        {
          "data": {
            "text/html": [
              "<pre style=\"white-space:pre;overflow-x:auto;line-height:normal;font-family:Menlo,'DejaVu Sans Mono',consolas,'Courier New',monospace\">┏━━━━━━━━━━━━━━━━━━━━━━━━━━━┳━━━━━━━━━━━━━━━━━━━━━━━━┳━━━━━━━━━━━━━━━━┳━━━━━━━━━━━━━━━━━━━━━━━━┓\n",
              "┃<span style=\"font-weight: bold\"> Layer (type)              </span>┃<span style=\"font-weight: bold\"> Output Shape           </span>┃<span style=\"font-weight: bold\">        Param # </span>┃<span style=\"font-weight: bold\"> Connected to           </span>┃\n",
              "┡━━━━━━━━━━━━━━━━━━━━━━━━━━━╇━━━━━━━━━━━━━━━━━━━━━━━━╇━━━━━━━━━━━━━━━━╇━━━━━━━━━━━━━━━━━━━━━━━━┩\n",
              "│ inputs (<span style=\"color: #0087ff; text-decoration-color: #0087ff\">InputLayer</span>)       │ (<span style=\"color: #00d7ff; text-decoration-color: #00d7ff\">None</span>, <span style=\"color: #00d7ff; text-decoration-color: #00d7ff\">None</span>)           │              <span style=\"color: #00af00; text-decoration-color: #00af00\">0</span> │ -                      │\n",
              "├───────────────────────────┼────────────────────────┼────────────────┼────────────────────────┤\n",
              "│ embedding (<span style=\"color: #0087ff; text-decoration-color: #0087ff\">Embedding</span>)     │ (<span style=\"color: #00d7ff; text-decoration-color: #00d7ff\">None</span>, <span style=\"color: #00d7ff; text-decoration-color: #00d7ff\">None</span>, <span style=\"color: #00af00; text-decoration-color: #00af00\">64</span>)       │        <span style=\"color: #00af00; text-decoration-color: #00af00\">640,000</span> │ inputs[<span style=\"color: #00af00; text-decoration-color: #00af00\">0</span>][<span style=\"color: #00af00; text-decoration-color: #00af00\">0</span>]           │\n",
              "├───────────────────────────┼────────────────────────┼────────────────┼────────────────────────┤\n",
              "│ not_equal_2 (<span style=\"color: #0087ff; text-decoration-color: #0087ff\">NotEqual</span>)    │ (<span style=\"color: #00d7ff; text-decoration-color: #00d7ff\">None</span>, <span style=\"color: #00d7ff; text-decoration-color: #00d7ff\">None</span>)           │              <span style=\"color: #00af00; text-decoration-color: #00af00\">0</span> │ inputs[<span style=\"color: #00af00; text-decoration-color: #00af00\">0</span>][<span style=\"color: #00af00; text-decoration-color: #00af00\">0</span>]           │\n",
              "├───────────────────────────┼────────────────────────┼────────────────┼────────────────────────┤\n",
              "│ lstm (<span style=\"color: #0087ff; text-decoration-color: #0087ff\">LSTM</span>)               │ (<span style=\"color: #00d7ff; text-decoration-color: #00d7ff\">None</span>, <span style=\"color: #00af00; text-decoration-color: #00af00\">64</span>)             │         <span style=\"color: #00af00; text-decoration-color: #00af00\">33,024</span> │ embedding[<span style=\"color: #00af00; text-decoration-color: #00af00\">0</span>][<span style=\"color: #00af00; text-decoration-color: #00af00\">0</span>],       │\n",
              "│                           │                        │                │ not_equal_2[<span style=\"color: #00af00; text-decoration-color: #00af00\">0</span>][<span style=\"color: #00af00; text-decoration-color: #00af00\">0</span>]      │\n",
              "├───────────────────────────┼────────────────────────┼────────────────┼────────────────────────┤\n",
              "│ output (<span style=\"color: #0087ff; text-decoration-color: #0087ff\">Dense</span>)            │ (<span style=\"color: #00d7ff; text-decoration-color: #00d7ff\">None</span>, <span style=\"color: #00af00; text-decoration-color: #00af00\">1</span>)              │             <span style=\"color: #00af00; text-decoration-color: #00af00\">65</span> │ lstm[<span style=\"color: #00af00; text-decoration-color: #00af00\">0</span>][<span style=\"color: #00af00; text-decoration-color: #00af00\">0</span>]             │\n",
              "└───────────────────────────┴────────────────────────┴────────────────┴────────────────────────┘\n",
              "</pre>\n"
            ],
            "text/plain": [
              "┏━━━━━━━━━━━━━━━━━━━━━━━━━━━┳━━━━━━━━━━━━━━━━━━━━━━━━┳━━━━━━━━━━━━━━━━┳━━━━━━━━━━━━━━━━━━━━━━━━┓\n",
              "┃\u001b[1m \u001b[0m\u001b[1mLayer (type)             \u001b[0m\u001b[1m \u001b[0m┃\u001b[1m \u001b[0m\u001b[1mOutput Shape          \u001b[0m\u001b[1m \u001b[0m┃\u001b[1m \u001b[0m\u001b[1m       Param #\u001b[0m\u001b[1m \u001b[0m┃\u001b[1m \u001b[0m\u001b[1mConnected to          \u001b[0m\u001b[1m \u001b[0m┃\n",
              "┡━━━━━━━━━━━━━━━━━━━━━━━━━━━╇━━━━━━━━━━━━━━━━━━━━━━━━╇━━━━━━━━━━━━━━━━╇━━━━━━━━━━━━━━━━━━━━━━━━┩\n",
              "│ inputs (\u001b[38;5;33mInputLayer\u001b[0m)       │ (\u001b[38;5;45mNone\u001b[0m, \u001b[38;5;45mNone\u001b[0m)           │              \u001b[38;5;34m0\u001b[0m │ -                      │\n",
              "├───────────────────────────┼────────────────────────┼────────────────┼────────────────────────┤\n",
              "│ embedding (\u001b[38;5;33mEmbedding\u001b[0m)     │ (\u001b[38;5;45mNone\u001b[0m, \u001b[38;5;45mNone\u001b[0m, \u001b[38;5;34m64\u001b[0m)       │        \u001b[38;5;34m640,000\u001b[0m │ inputs[\u001b[38;5;34m0\u001b[0m][\u001b[38;5;34m0\u001b[0m]           │\n",
              "├───────────────────────────┼────────────────────────┼────────────────┼────────────────────────┤\n",
              "│ not_equal_2 (\u001b[38;5;33mNotEqual\u001b[0m)    │ (\u001b[38;5;45mNone\u001b[0m, \u001b[38;5;45mNone\u001b[0m)           │              \u001b[38;5;34m0\u001b[0m │ inputs[\u001b[38;5;34m0\u001b[0m][\u001b[38;5;34m0\u001b[0m]           │\n",
              "├───────────────────────────┼────────────────────────┼────────────────┼────────────────────────┤\n",
              "│ lstm (\u001b[38;5;33mLSTM\u001b[0m)               │ (\u001b[38;5;45mNone\u001b[0m, \u001b[38;5;34m64\u001b[0m)             │         \u001b[38;5;34m33,024\u001b[0m │ embedding[\u001b[38;5;34m0\u001b[0m][\u001b[38;5;34m0\u001b[0m],       │\n",
              "│                           │                        │                │ not_equal_2[\u001b[38;5;34m0\u001b[0m][\u001b[38;5;34m0\u001b[0m]      │\n",
              "├───────────────────────────┼────────────────────────┼────────────────┼────────────────────────┤\n",
              "│ output (\u001b[38;5;33mDense\u001b[0m)            │ (\u001b[38;5;45mNone\u001b[0m, \u001b[38;5;34m1\u001b[0m)              │             \u001b[38;5;34m65\u001b[0m │ lstm[\u001b[38;5;34m0\u001b[0m][\u001b[38;5;34m0\u001b[0m]             │\n",
              "└───────────────────────────┴────────────────────────┴────────────────┴────────────────────────┘\n"
            ]
          },
          "metadata": {},
          "output_type": "display_data"
        },
        {
          "data": {
            "text/html": [
              "<pre style=\"white-space:pre;overflow-x:auto;line-height:normal;font-family:Menlo,'DejaVu Sans Mono',consolas,'Courier New',monospace\"><span style=\"font-weight: bold\"> Total params: </span><span style=\"color: #00af00; text-decoration-color: #00af00\">673,089</span> (2.57 MB)\n",
              "</pre>\n"
            ],
            "text/plain": [
              "\u001b[1m Total params: \u001b[0m\u001b[38;5;34m673,089\u001b[0m (2.57 MB)\n"
            ]
          },
          "metadata": {},
          "output_type": "display_data"
        },
        {
          "data": {
            "text/html": [
              "<pre style=\"white-space:pre;overflow-x:auto;line-height:normal;font-family:Menlo,'DejaVu Sans Mono',consolas,'Courier New',monospace\"><span style=\"font-weight: bold\"> Trainable params: </span><span style=\"color: #00af00; text-decoration-color: #00af00\">673,089</span> (2.57 MB)\n",
              "</pre>\n"
            ],
            "text/plain": [
              "\u001b[1m Trainable params: \u001b[0m\u001b[38;5;34m673,089\u001b[0m (2.57 MB)\n"
            ]
          },
          "metadata": {},
          "output_type": "display_data"
        },
        {
          "data": {
            "text/html": [
              "<pre style=\"white-space:pre;overflow-x:auto;line-height:normal;font-family:Menlo,'DejaVu Sans Mono',consolas,'Courier New',monospace\"><span style=\"font-weight: bold\"> Non-trainable params: </span><span style=\"color: #00af00; text-decoration-color: #00af00\">0</span> (0.00 B)\n",
              "</pre>\n"
            ],
            "text/plain": [
              "\u001b[1m Non-trainable params: \u001b[0m\u001b[38;5;34m0\u001b[0m (0.00 B)\n"
            ]
          },
          "metadata": {},
          "output_type": "display_data"
        }
      ],
      "source": [
        "model = build_model_lstm(\n",
        "  vocab_size = VOCAB_SIZE,\n",
        "  embedding_dim = EMBEDDING_DIM,\n",
        ")\n",
        "\n",
        "model.compile(loss='binary_crossentropy',\n",
        "             optimizer='adam',\n",
        "             metrics=['accuracy', 'Precision', 'Recall'])\n",
        "\n",
        "model.summary()"
      ]
    },
    {
      "cell_type": "code",
      "execution_count": 80,
      "metadata": {
        "colab": {
          "base_uri": "https://localhost:8080/"
        },
        "id": "pHeGiRZCuUrA",
        "outputId": "4b8116e8-db3f-4f56-96ad-179ded0ed828"
      },
      "outputs": [
        {
          "name": "stdout",
          "output_type": "stream",
          "text": [
            "Epoch 1/20\n",
            "\u001b[1m622/625\u001b[0m \u001b[32m━━━━━━━━━━━━━━━━━━━\u001b[0m\u001b[37m━\u001b[0m \u001b[1m0s\u001b[0m 15ms/step - Precision: 0.7430 - Recall: 0.8172 - accuracy: 0.7583 - loss: 0.4741\n",
            "Epoch 1: val_loss improved from inf to 0.24161, saving model to /content/drive/MyDrive/Colab Notebooks/Tensorflow Documentation/Assets/Model/imdb_sentiment_review_lstm_revision.keras\n",
            "\u001b[1m625/625\u001b[0m \u001b[32m━━━━━━━━━━━━━━━━━━━━\u001b[0m\u001b[37m\u001b[0m \u001b[1m13s\u001b[0m 17ms/step - Precision: 0.7435 - Recall: 0.8173 - accuracy: 0.7587 - loss: 0.4735 - val_Precision: 0.9228 - val_Recall: 0.8942 - val_accuracy: 0.9104 - val_loss: 0.2416 - learning_rate: 0.0010\n",
            "Epoch 2/20\n",
            "\u001b[1m625/625\u001b[0m \u001b[32m━━━━━━━━━━━━━━━━━━━━\u001b[0m\u001b[37m\u001b[0m \u001b[1m0s\u001b[0m 12ms/step - Precision: 0.8990 - Recall: 0.9009 - accuracy: 0.9002 - loss: 0.2539\n",
            "Epoch 2: val_loss improved from 0.24161 to 0.20314, saving model to /content/drive/MyDrive/Colab Notebooks/Tensorflow Documentation/Assets/Model/imdb_sentiment_review_lstm_revision.keras\n",
            "\u001b[1m625/625\u001b[0m \u001b[32m━━━━━━━━━━━━━━━━━━━━\u001b[0m\u001b[37m\u001b[0m \u001b[1m20s\u001b[0m 17ms/step - Precision: 0.8990 - Recall: 0.9009 - accuracy: 0.9002 - loss: 0.2539 - val_Precision: 0.8881 - val_Recall: 0.9589 - val_accuracy: 0.9185 - val_loss: 0.2031 - learning_rate: 0.0010\n",
            "Epoch 3/20\n",
            "\u001b[1m623/625\u001b[0m \u001b[32m━━━━━━━━━━━━━━━━━━━\u001b[0m\u001b[37m━\u001b[0m \u001b[1m0s\u001b[0m 14ms/step - Precision: 0.9157 - Recall: 0.9207 - accuracy: 0.9173 - loss: 0.2101\n",
            "Epoch 3: val_loss did not improve from 0.20314\n",
            "\u001b[1m625/625\u001b[0m \u001b[32m━━━━━━━━━━━━━━━━━━━━\u001b[0m\u001b[37m\u001b[0m \u001b[1m19s\u001b[0m 16ms/step - Precision: 0.9156 - Recall: 0.9207 - accuracy: 0.9172 - loss: 0.2102 - val_Precision: 0.9118 - val_Recall: 0.9318 - val_accuracy: 0.9204 - val_loss: 0.2117 - learning_rate: 0.0010\n",
            "Epoch 4/20\n",
            "\u001b[1m624/625\u001b[0m \u001b[32m━━━━━━━━━━━━━━━━━━━\u001b[0m\u001b[37m━\u001b[0m \u001b[1m0s\u001b[0m 14ms/step - Precision: 0.9309 - Recall: 0.9310 - accuracy: 0.9307 - loss: 0.1825\n",
            "Epoch 4: val_loss improved from 0.20314 to 0.13501, saving model to /content/drive/MyDrive/Colab Notebooks/Tensorflow Documentation/Assets/Model/imdb_sentiment_review_lstm_revision.keras\n",
            "\u001b[1m625/625\u001b[0m \u001b[32m━━━━━━━━━━━━━━━━━━━━\u001b[0m\u001b[37m\u001b[0m \u001b[1m10s\u001b[0m 16ms/step - Precision: 0.9309 - Recall: 0.9310 - accuracy: 0.9307 - loss: 0.1825 - val_Precision: 0.9522 - val_Recall: 0.9655 - val_accuracy: 0.9579 - val_loss: 0.1350 - learning_rate: 0.0010\n",
            "Epoch 5/20\n",
            "\u001b[1m625/625\u001b[0m \u001b[32m━━━━━━━━━━━━━━━━━━━━\u001b[0m\u001b[37m\u001b[0m \u001b[1m0s\u001b[0m 14ms/step - Precision: 0.9460 - Recall: 0.9485 - accuracy: 0.9474 - loss: 0.1441\n",
            "Epoch 5: val_loss improved from 0.13501 to 0.10985, saving model to /content/drive/MyDrive/Colab Notebooks/Tensorflow Documentation/Assets/Model/imdb_sentiment_review_lstm_revision.keras\n",
            "\u001b[1m625/625\u001b[0m \u001b[32m━━━━━━━━━━━━━━━━━━━━\u001b[0m\u001b[37m\u001b[0m \u001b[1m20s\u001b[0m 15ms/step - Precision: 0.9460 - Recall: 0.9485 - accuracy: 0.9474 - loss: 0.1441 - val_Precision: 0.9732 - val_Recall: 0.9494 - val_accuracy: 0.9613 - val_loss: 0.1098 - learning_rate: 0.0010\n",
            "Epoch 6/20\n",
            "\u001b[1m622/625\u001b[0m \u001b[32m━━━━━━━━━━━━━━━━━━━\u001b[0m\u001b[37m━\u001b[0m \u001b[1m0s\u001b[0m 15ms/step - Precision: 0.9510 - Recall: 0.9564 - accuracy: 0.9539 - loss: 0.1284\n",
            "Epoch 6: val_loss improved from 0.10985 to 0.10151, saving model to /content/drive/MyDrive/Colab Notebooks/Tensorflow Documentation/Assets/Model/imdb_sentiment_review_lstm_revision.keras\n",
            "\u001b[1m625/625\u001b[0m \u001b[32m━━━━━━━━━━━━━━━━━━━━\u001b[0m\u001b[37m\u001b[0m \u001b[1m11s\u001b[0m 17ms/step - Precision: 0.9510 - Recall: 0.9564 - accuracy: 0.9539 - loss: 0.1284 - val_Precision: 0.9572 - val_Recall: 0.9797 - val_accuracy: 0.9681 - val_loss: 0.1015 - learning_rate: 0.0010\n",
            "Epoch 7/20\n",
            "\u001b[1m622/625\u001b[0m \u001b[32m━━━━━━━━━━━━━━━━━━━\u001b[0m\u001b[37m━\u001b[0m \u001b[1m0s\u001b[0m 12ms/step - Precision: 0.9626 - Recall: 0.9677 - accuracy: 0.9652 - loss: 0.1048\n",
            "Epoch 7: val_loss improved from 0.10151 to 0.09855, saving model to /content/drive/MyDrive/Colab Notebooks/Tensorflow Documentation/Assets/Model/imdb_sentiment_review_lstm_revision.keras\n",
            "\u001b[1m625/625\u001b[0m \u001b[32m━━━━━━━━━━━━━━━━━━━━\u001b[0m\u001b[37m\u001b[0m \u001b[1m19s\u001b[0m 14ms/step - Precision: 0.9626 - Recall: 0.9677 - accuracy: 0.9651 - loss: 0.1048 - val_Precision: 0.9792 - val_Recall: 0.9568 - val_accuracy: 0.9681 - val_loss: 0.0985 - learning_rate: 0.0010\n",
            "Epoch 8/20\n",
            "\u001b[1m624/625\u001b[0m \u001b[32m━━━━━━━━━━━━━━━━━━━\u001b[0m\u001b[37m━\u001b[0m \u001b[1m0s\u001b[0m 15ms/step - Precision: 0.9688 - Recall: 0.9703 - accuracy: 0.9695 - loss: 0.0894\n",
            "Epoch 8: val_loss improved from 0.09855 to 0.09490, saving model to /content/drive/MyDrive/Colab Notebooks/Tensorflow Documentation/Assets/Model/imdb_sentiment_review_lstm_revision.keras\n",
            "\u001b[1m625/625\u001b[0m \u001b[32m━━━━━━━━━━━━━━━━━━━━\u001b[0m\u001b[37m\u001b[0m \u001b[1m11s\u001b[0m 17ms/step - Precision: 0.9688 - Recall: 0.9703 - accuracy: 0.9695 - loss: 0.0894 - val_Precision: 0.9882 - val_Recall: 0.9386 - val_accuracy: 0.9637 - val_loss: 0.0949 - learning_rate: 0.0010\n",
            "Epoch 9/20\n",
            "\u001b[1m622/625\u001b[0m \u001b[32m━━━━━━━━━━━━━━━━━━━\u001b[0m\u001b[37m━\u001b[0m \u001b[1m0s\u001b[0m 15ms/step - Precision: 0.9756 - Recall: 0.9756 - accuracy: 0.9758 - loss: 0.0734\n",
            "Epoch 9: val_loss improved from 0.09490 to 0.05763, saving model to /content/drive/MyDrive/Colab Notebooks/Tensorflow Documentation/Assets/Model/imdb_sentiment_review_lstm_revision.keras\n",
            "\u001b[1m625/625\u001b[0m \u001b[32m━━━━━━━━━━━━━━━━━━━━\u001b[0m\u001b[37m\u001b[0m \u001b[1m10s\u001b[0m 16ms/step - Precision: 0.9756 - Recall: 0.9756 - accuracy: 0.9758 - loss: 0.0734 - val_Precision: 0.9859 - val_Recall: 0.9763 - val_accuracy: 0.9814 - val_loss: 0.0576 - learning_rate: 0.0010\n",
            "Epoch 10/20\n",
            "\u001b[1m623/625\u001b[0m \u001b[32m━━━━━━━━━━━━━━━━━━━\u001b[0m\u001b[37m━\u001b[0m \u001b[1m0s\u001b[0m 12ms/step - Precision: 0.9799 - Recall: 0.9818 - accuracy: 0.9807 - loss: 0.0625\n",
            "Epoch 10: val_loss improved from 0.05763 to 0.04897, saving model to /content/drive/MyDrive/Colab Notebooks/Tensorflow Documentation/Assets/Model/imdb_sentiment_review_lstm_revision.keras\n",
            "\u001b[1m625/625\u001b[0m \u001b[32m━━━━━━━━━━━━━━━━━━━━\u001b[0m\u001b[37m\u001b[0m \u001b[1m11s\u001b[0m 17ms/step - Precision: 0.9798 - Recall: 0.9818 - accuracy: 0.9807 - loss: 0.0625 - val_Precision: 0.9892 - val_Recall: 0.9799 - val_accuracy: 0.9847 - val_loss: 0.0490 - learning_rate: 0.0010\n",
            "Epoch 11/20\n",
            "\u001b[1m622/625\u001b[0m \u001b[32m━━━━━━━━━━━━━━━━━━━\u001b[0m\u001b[37m━\u001b[0m \u001b[1m0s\u001b[0m 15ms/step - Precision: 0.9735 - Recall: 0.9784 - accuracy: 0.9758 - loss: 0.0733\n",
            "Epoch 11: val_loss improved from 0.04897 to 0.04526, saving model to /content/drive/MyDrive/Colab Notebooks/Tensorflow Documentation/Assets/Model/imdb_sentiment_review_lstm_revision.keras\n",
            "\u001b[1m625/625\u001b[0m \u001b[32m━━━━━━━━━━━━━━━━━━━━\u001b[0m\u001b[37m\u001b[0m \u001b[1m20s\u001b[0m 17ms/step - Precision: 0.9735 - Recall: 0.9784 - accuracy: 0.9758 - loss: 0.0733 - val_Precision: 0.9905 - val_Recall: 0.9816 - val_accuracy: 0.9861 - val_loss: 0.0453 - learning_rate: 0.0010\n",
            "Epoch 12/20\n",
            "\u001b[1m625/625\u001b[0m \u001b[32m━━━━━━━━━━━━━━━━━━━━\u001b[0m\u001b[37m\u001b[0m \u001b[1m0s\u001b[0m 14ms/step - Precision: 0.9820 - Recall: 0.9818 - accuracy: 0.9817 - loss: 0.0599\n",
            "Epoch 12: val_loss improved from 0.04526 to 0.03398, saving model to /content/drive/MyDrive/Colab Notebooks/Tensorflow Documentation/Assets/Model/imdb_sentiment_review_lstm_revision.keras\n",
            "\u001b[1m625/625\u001b[0m \u001b[32m━━━━━━━━━━━━━━━━━━━━\u001b[0m\u001b[37m\u001b[0m \u001b[1m10s\u001b[0m 16ms/step - Precision: 0.9820 - Recall: 0.9818 - accuracy: 0.9817 - loss: 0.0599 - val_Precision: 0.9912 - val_Recall: 0.9910 - val_accuracy: 0.9913 - val_loss: 0.0340 - learning_rate: 0.0010\n",
            "Epoch 13/20\n",
            "\u001b[1m622/625\u001b[0m \u001b[32m━━━━━━━━━━━━━━━━━━━\u001b[0m\u001b[37m━\u001b[0m \u001b[1m0s\u001b[0m 12ms/step - Precision: 0.9858 - Recall: 0.9872 - accuracy: 0.9866 - loss: 0.0468\n",
            "Epoch 13: val_loss improved from 0.03398 to 0.02735, saving model to /content/drive/MyDrive/Colab Notebooks/Tensorflow Documentation/Assets/Model/imdb_sentiment_review_lstm_revision.keras\n",
            "\u001b[1m625/625\u001b[0m \u001b[32m━━━━━━━━━━━━━━━━━━━━\u001b[0m\u001b[37m\u001b[0m \u001b[1m9s\u001b[0m 14ms/step - Precision: 0.9858 - Recall: 0.9872 - accuracy: 0.9866 - loss: 0.0468 - val_Precision: 0.9930 - val_Recall: 0.9942 - val_accuracy: 0.9936 - val_loss: 0.0273 - learning_rate: 0.0010\n",
            "Epoch 14/20\n",
            "\u001b[1m625/625\u001b[0m \u001b[32m━━━━━━━━━━━━━━━━━━━━\u001b[0m\u001b[37m\u001b[0m \u001b[1m0s\u001b[0m 15ms/step - Precision: 0.9875 - Recall: 0.9885 - accuracy: 0.9880 - loss: 0.0393\n",
            "Epoch 14: val_loss improved from 0.02735 to 0.02157, saving model to /content/drive/MyDrive/Colab Notebooks/Tensorflow Documentation/Assets/Model/imdb_sentiment_review_lstm_revision.keras\n",
            "\u001b[1m625/625\u001b[0m \u001b[32m━━━━━━━━━━━━━━━━━━━━\u001b[0m\u001b[37m\u001b[0m \u001b[1m12s\u001b[0m 17ms/step - Precision: 0.9875 - Recall: 0.9885 - accuracy: 0.9880 - loss: 0.0393 - val_Precision: 0.9910 - val_Recall: 0.9962 - val_accuracy: 0.9936 - val_loss: 0.0216 - learning_rate: 0.0010\n",
            "Epoch 15/20\n",
            "\u001b[1m621/625\u001b[0m \u001b[32m━━━━━━━━━━━━━━━━━━━\u001b[0m\u001b[37m━\u001b[0m \u001b[1m0s\u001b[0m 14ms/step - Precision: 0.9811 - Recall: 0.9855 - accuracy: 0.9832 - loss: 0.0506\n",
            "Epoch 15: val_loss did not improve from 0.02157\n",
            "\u001b[1m625/625\u001b[0m \u001b[32m━━━━━━━━━━━━━━━━━━━━\u001b[0m\u001b[37m\u001b[0m \u001b[1m10s\u001b[0m 16ms/step - Precision: 0.9811 - Recall: 0.9855 - accuracy: 0.9832 - loss: 0.0506 - val_Precision: 0.9927 - val_Recall: 0.9966 - val_accuracy: 0.9947 - val_loss: 0.0234 - learning_rate: 0.0010\n",
            "Epoch 16/20\n",
            "\u001b[1m624/625\u001b[0m \u001b[32m━━━━━━━━━━━━━━━━━━━\u001b[0m\u001b[37m━\u001b[0m \u001b[1m0s\u001b[0m 12ms/step - Precision: 0.9912 - Recall: 0.9930 - accuracy: 0.9921 - loss: 0.0263\n",
            "Epoch 16: val_loss improved from 0.02157 to 0.01894, saving model to /content/drive/MyDrive/Colab Notebooks/Tensorflow Documentation/Assets/Model/imdb_sentiment_review_lstm_revision.keras\n",
            "\u001b[1m625/625\u001b[0m \u001b[32m━━━━━━━━━━━━━━━━━━━━\u001b[0m\u001b[37m\u001b[0m \u001b[1m11s\u001b[0m 17ms/step - Precision: 0.9912 - Recall: 0.9930 - accuracy: 0.9921 - loss: 0.0263 - val_Precision: 0.9940 - val_Recall: 0.9980 - val_accuracy: 0.9960 - val_loss: 0.0189 - learning_rate: 0.0010\n",
            "Epoch 17/20\n",
            "\u001b[1m625/625\u001b[0m \u001b[32m━━━━━━━━━━━━━━━━━━━━\u001b[0m\u001b[37m\u001b[0m \u001b[1m0s\u001b[0m 12ms/step - Precision: 0.9914 - Recall: 0.9931 - accuracy: 0.9923 - loss: 0.0261\n",
            "Epoch 17: val_loss improved from 0.01894 to 0.01259, saving model to /content/drive/MyDrive/Colab Notebooks/Tensorflow Documentation/Assets/Model/imdb_sentiment_review_lstm_revision.keras\n",
            "\u001b[1m625/625\u001b[0m \u001b[32m━━━━━━━━━━━━━━━━━━━━\u001b[0m\u001b[37m\u001b[0m \u001b[1m9s\u001b[0m 14ms/step - Precision: 0.9914 - Recall: 0.9931 - accuracy: 0.9923 - loss: 0.0261 - val_Precision: 0.9982 - val_Recall: 0.9970 - val_accuracy: 0.9976 - val_loss: 0.0126 - learning_rate: 0.0010\n",
            "Epoch 18/20\n",
            "\u001b[1m624/625\u001b[0m \u001b[32m━━━━━━━━━━━━━━━━━━━\u001b[0m\u001b[37m━\u001b[0m \u001b[1m0s\u001b[0m 14ms/step - Precision: 0.9949 - Recall: 0.9945 - accuracy: 0.9947 - loss: 0.0183\n",
            "Epoch 18: val_loss improved from 0.01259 to 0.01054, saving model to /content/drive/MyDrive/Colab Notebooks/Tensorflow Documentation/Assets/Model/imdb_sentiment_review_lstm_revision.keras\n",
            "\u001b[1m625/625\u001b[0m \u001b[32m━━━━━━━━━━━━━━━━━━━━\u001b[0m\u001b[37m\u001b[0m \u001b[1m10s\u001b[0m 16ms/step - Precision: 0.9949 - Recall: 0.9945 - accuracy: 0.9947 - loss: 0.0183 - val_Precision: 0.9984 - val_Recall: 0.9972 - val_accuracy: 0.9978 - val_loss: 0.0105 - learning_rate: 0.0010\n",
            "Epoch 19/20\n",
            "\u001b[1m623/625\u001b[0m \u001b[32m━━━━━━━━━━━━━━━━━━━\u001b[0m\u001b[37m━\u001b[0m \u001b[1m0s\u001b[0m 15ms/step - Precision: 0.9944 - Recall: 0.9940 - accuracy: 0.9942 - loss: 0.0206\n",
            "Epoch 19: val_loss improved from 0.01054 to 0.00774, saving model to /content/drive/MyDrive/Colab Notebooks/Tensorflow Documentation/Assets/Model/imdb_sentiment_review_lstm_revision.keras\n",
            "\u001b[1m625/625\u001b[0m \u001b[32m━━━━━━━━━━━━━━━━━━━━\u001b[0m\u001b[37m\u001b[0m \u001b[1m12s\u001b[0m 18ms/step - Precision: 0.9943 - Recall: 0.9940 - accuracy: 0.9942 - loss: 0.0206 - val_Precision: 0.9990 - val_Recall: 0.9982 - val_accuracy: 0.9986 - val_loss: 0.0077 - learning_rate: 0.0010\n",
            "Epoch 20/20\n",
            "\u001b[1m623/625\u001b[0m \u001b[32m━━━━━━━━━━━━━━━━━━━\u001b[0m\u001b[37m━\u001b[0m \u001b[1m0s\u001b[0m 24ms/step - Precision: 0.9918 - Recall: 0.9932 - accuracy: 0.9924 - loss: 0.0249\n",
            "Epoch 20: val_loss did not improve from 0.00774\n",
            "\u001b[1m625/625\u001b[0m \u001b[32m━━━━━━━━━━━━━━━━━━━━\u001b[0m\u001b[37m\u001b[0m \u001b[1m16s\u001b[0m 26ms/step - Precision: 0.9918 - Recall: 0.9932 - accuracy: 0.9925 - loss: 0.0249 - val_Precision: 0.9968 - val_Recall: 0.9940 - val_accuracy: 0.9954 - val_loss: 0.0164 - learning_rate: 0.0010\n",
            "Restoring model weights from the end of the best epoch: 19.\n"
          ]
        }
      ],
      "source": [
        "checkpoint_callback = tf.keras.callbacks.ModelCheckpoint(\n",
        "  filepath=MODEL_PATH,  # Path untuk menyimpan model\n",
        "  monitor='val_loss',  # Metrik yang dipantau\n",
        "  save_best_only=True,  # Hanya menyimpan model terbaik\n",
        "  save_weights_only=False,  # Menyimpan seluruh model (bukan hanya bobotnya)\n",
        "  mode='min',  # Mode untuk memantau metrik (min untuk loss)\n",
        "  verbose=1,\n",
        ")\n",
        "\n",
        "plateau_callback = tf.keras.callbacks.ReduceLROnPlateau(\n",
        "  monitor='val_loss',  # Metrik yang akan dipantau\n",
        "  factor=0.5,  # Faktor pengurangan learning rate. new_lr = lr * factor\n",
        "  patience=20,  # Jumlah epoch tanpa perbaikan setelah learning rate akan dikurangi\n",
        "  verbose=1,  # Output\n",
        "  mode='auto',  # Mode otomatis menurunkan learning rate baik ketika metrik berhenti meningkat atau menurun\n",
        "  min_delta=0.001,  # Perubahan minimum dalam metrik yang dianggap sebagai peningkatan\n",
        "  cooldown=0,  # Jumlah epoch untuk menunggu sebelum melanjutkan operasi normsal setelah learning rate dikurangi.\n",
        "  min_lr=0  # Batas bawah learning rate\n",
        ")\n",
        "\n",
        "early_stopping = tf.keras.callbacks.EarlyStopping(\n",
        "  monitor='val_loss',\n",
        "  patience=25,\n",
        "  restore_best_weights=True,\n",
        "  verbose=1\n",
        ")\n",
        "\n",
        "\n",
        "history = model.fit(\n",
        "    imdb_reciews_tf_data_train,\n",
        "    validation_data=imdb_reciews_tf_data_valid,\n",
        "    epochs=20,\n",
        "    callbacks=[\n",
        "      plateau_callback,\n",
        "      early_stopping,\n",
        "      checkpoint_callback\n",
        "    ]\n",
        ")"
      ]
    },
    {
      "cell_type": "code",
      "execution_count": null,
      "metadata": {
        "id": "0lcjj6VZ5Ym-"
      },
      "outputs": [],
      "source": [
        "with open('/content/drive/MyDrive/Colab Notebooks/Tensorflow Documentation/Assets/tokenizer.pickle', 'wb') as handle:\n",
        "    pickle.dump(tokenizer, handle, protocol=pickle.HIGHEST_PROTOCOL)\n",
        "\n",
        "with open('/content/drive/MyDrive/Colab Notebooks/Tensorflow Documentation/Assets/label_binerizer.pickle', 'wb') as handle:\n",
        "    pickle.dump(label_processor_obj, handle, protocol=pickle.HIGHEST_PROTOCOL)"
      ]
    },
    {
      "cell_type": "code",
      "execution_count": 81,
      "metadata": {
        "colab": {
          "base_uri": "https://localhost:8080/"
        },
        "id": "vmOtQoRZud8q",
        "outputId": "aa9b8016-7ee7-4ead-8c5b-bb12bdebf420"
      },
      "outputs": [
        {
          "name": "stdout",
          "output_type": "stream",
          "text": [
            "\u001b[1m157/157\u001b[0m \u001b[32m━━━━━━━━━━━━━━━━━━━━\u001b[0m\u001b[37m\u001b[0m \u001b[1m1s\u001b[0m 7ms/step - Precision: 0.9976 - Recall: 0.9953 - accuracy: 0.9965 - loss: 0.0097\n"
          ]
        }
      ],
      "source": [
        "# Evaluate the model\n",
        "evaluation_results = model.evaluate(imdb_reciews_tf_data_valid)"
      ]
    },
    {
      "cell_type": "code",
      "execution_count": 37,
      "metadata": {
        "colab": {
          "base_uri": "https://localhost:8080/"
        },
        "id": "ilb-mP0Zuews",
        "outputId": "de9e558f-44c0-4723-8756-b66fd0e48f3f"
      },
      "outputs": [
        {
          "name": "stdout",
          "output_type": "stream",
          "text": [
            "\n",
            "Evaluation results:\n",
            "  Loss: 0.055452264845371246\n",
            "  Precision: 0.9836999773979187\n",
            "  Recall: 0.9926605224609375\n",
            "  Accuracy: 0.9745796918869019\n",
            "\n"
          ]
        }
      ],
      "source": [
        "print(f'''\n",
        "Evaluation results:\n",
        "  Loss: {evaluation_results[0]}\n",
        "  Precision: {evaluation_results[1]}\n",
        "  Recall: {evaluation_results[2]}\n",
        "  Accuracy: {evaluation_results[3]}\n",
        "''')"
      ]
    },
    {
      "cell_type": "code",
      "execution_count": 83,
      "metadata": {
        "colab": {
          "base_uri": "https://localhost:8080/",
          "height": 1000
        },
        "id": "DMHWU0ABui66",
        "outputId": "a886c522-7ab3-4221-c0a2-605dcd744a37"
      },
      "outputs": [
        {
          "data": {
            "image/png": "[encoded data removed]",
            "text/plain": [
              "<Figure size 1200x1000 with 2 Axes>"
            ]
          },
          "metadata": {},
          "output_type": "display_data"
        },
        {
          "name": "stdout",
          "output_type": "stream",
          "text": [
            "Classification Report:\n",
            "              precision    recall  f1-score   support\n",
            "\n",
            "         0.0       1.00      1.00      1.00      5008\n",
            "         1.0       1.00      1.00      1.00      4992\n",
            "\n",
            "    accuracy                           1.00     10000\n",
            "   macro avg       1.00      1.00      1.00     10000\n",
            "weighted avg       1.00      1.00      1.00     10000\n",
            "\n"
          ]
        }
      ],
      "source": [
        "evaluate_model(model, imdb_reciews_tf_data_valid, lb.classes_)"
      ]
    },
    {
      "cell_type": "code",
      "execution_count": 116,
      "metadata": {
        "id": "aoVXYOi15bep"
      },
      "outputs": [],
      "source": [
        "def clean_review_func(review):\n",
        "    # Menghapus tag HTML menggunakan regex\n",
        "    review = re.sub(r'<.*?>', '', review.lower())\n",
        "\n",
        "    # Menghapus URL/link\n",
        "    review = re.sub(r'http\\S+|www\\S+|https\\S+', '', review)\n",
        "\n",
        "    # Mengganti semua kata dengan tanda hubung menjadi versi tanpa tanda hubung\n",
        "    review = re.sub(r'(\\w+)(-\\w+)+', lambda x: x.group(0).replace('-', ' '), review)\n",
        "\n",
        "    # Menghapus karakter khusus selain huruf, angka, dan spasi\n",
        "    review = re.sub(r'[^a-zA-Z0-9\\s]', '', review)\n",
        "\n",
        "    # Menghapus spasi yang berlebihan\n",
        "    review = re.sub(r'\\s+', ' ', review).strip()\n",
        "\n",
        "    return review"
      ]
    },
    {
      "cell_type": "code",
      "execution_count": 117,
      "metadata": {
        "id": "imJmIgne5Px3"
      },
      "outputs": [],
      "source": [
        "model_loaded = tf.keras.models.load_model(MODEL_PATH)\n",
        "\n",
        "with open('/content/drive/MyDrive/Colab Notebooks/Tensorflow Documentation/Assets/tokenizer.pickle', 'rb') as handle:\n",
        "    tokenizer_loaded = pickle.load(handle)\n",
        "\n",
        "with open('/content/drive/MyDrive/Colab Notebooks/Tensorflow Documentation/Assets/label_binerizer.pickle', 'rb') as handle:\n",
        "    label_processor_obj_loaded = pickle.load(handle)"
      ]
    },
    {
      "cell_type": "code",
      "execution_count": 130,
      "metadata": {
        "id": "21a1wHNDury4"
      },
      "outputs": [],
      "source": [
        "# Example text reviews\n",
        "test_reviews = [\n",
        "  \"I just watched this film and I am thoroughly impressed! The story is incredibly inspiring and filled with heartwarming moments. The acting is outstanding, especially the lead actors who brought their characters to life so well. The cinematography is beautiful, with stunning shots and effective use of color to convey emotions. The background music is also perfectly chosen, adding depth to each scene. I feel that this film successfully delivers a powerful message about courage and perseverance. This is one of those films that I will watch repeatedly, and I highly recommend it to anyone looking for a meaningful and entertaining movie.\",\n",
        "\n",
        "  \"I was very disappointed with this film. The story felt very cliché and there was nothing new or interesting. The acting was unconvincing, with dialogue that sounded stiff and unnatural. The cinematography was average, nothing special or innovative. The background music did not help either, and was actually distracting in some scenes. I feel that the film failed to deliver the message it intended and ended up being boring. Many scenes felt too long and unnecessary, making the film drag. Overall, I do not recommend this film and feel that my time was wasted watching it.\",\n",
        "\n",
        "  \"It was actually a good movie, but I don't think I would recommend my child to watch this movie. because the scenes are full of blood.\",\n",
        "\n",
        "  \"I don't like this is movie!!!!!!!!!\",\n",
        "\n",
        "  \"I don't think this is a good movie\"\n",
        "]"
      ]
    },
    {
      "cell_type": "code",
      "execution_count": 131,
      "metadata": {
        "id": "o9Xi0kLtuuZv"
      },
      "outputs": [],
      "source": [
        "# Preprocess the text reviews\n",
        "def preprocess_review(review, max_pad=235):\n",
        "    sequences = tokenizer_loaded.texts_to_sequences([review])\n",
        "    padded_sequences = pad_sequences(sequences, maxlen=max_pad, padding='post')\n",
        "    return padded_sequences"
      ]
    },
    {
      "cell_type": "code",
      "execution_count": 132,
      "metadata": {
        "colab": {
          "base_uri": "https://localhost:8080/",
          "height": 461
        },
        "id": "qQ_bZgsQuxKP",
        "outputId": "4c867327-8ba0-4cc7-d19c-710236b996c0"
      },
      "outputs": [
        {
          "data": {
            "application/vnd.google.colaboratory.intrinsic+json": {
              "type": "string"
            },
            "text/plain": [
              "'Review: I just watched this film and I am thoroughly impressed! The story is incredibly inspiring and filled with heartwarming moments. The acting is outstanding, especially the lead actors who brought their characters to life so well. The cinematography is beautiful, with stunning shots and effective use of color to convey emotions. The background music is also perfectly chosen, adding depth to each scene. I feel that this film successfully delivers a powerful message about courage and perseverance. This is one of those films that I will watch repeatedly, and I highly recommend it to anyone looking for a meaningful and entertaining movie.'"
            ]
          },
          "metadata": {},
          "output_type": "display_data"
        },
        {
          "data": {
            "application/vnd.google.colaboratory.intrinsic+json": {
              "type": "string"
            },
            "text/plain": [
              "'Predicted Sentiment: POSITIVE'"
            ]
          },
          "metadata": {},
          "output_type": "display_data"
        },
        {
          "name": "stdout",
          "output_type": "stream",
          "text": [
            "\n"
          ]
        },
        {
          "data": {
            "application/vnd.google.colaboratory.intrinsic+json": {
              "type": "string"
            },
            "text/plain": [
              "'Review: I was very disappointed with this film. The story felt very cliché and there was nothing new or interesting. The acting was unconvincing, with dialogue that sounded stiff and unnatural. The cinematography was average, nothing special or innovative. The background music did not help either, and was actually distracting in some scenes. I feel that the film failed to deliver the message it intended and ended up being boring. Many scenes felt too long and unnecessary, making the film drag. Overall, I do not recommend this film and feel that my time was wasted watching it.'"
            ]
          },
          "metadata": {},
          "output_type": "display_data"
        },
        {
          "data": {
            "application/vnd.google.colaboratory.intrinsic+json": {
              "type": "string"
            },
            "text/plain": [
              "'Predicted Sentiment: NEGATIVE'"
            ]
          },
          "metadata": {},
          "output_type": "display_data"
        },
        {
          "name": "stdout",
          "output_type": "stream",
          "text": [
            "\n"
          ]
        },
        {
          "data": {
            "application/vnd.google.colaboratory.intrinsic+json": {
              "type": "string"
            },
            "text/plain": [
              "\"Review: It was actually a good movie, but I don't think I would recommend my child to watch this movie. because the scenes are full of blood.\""
            ]
          },
          "metadata": {},
          "output_type": "display_data"
        },
        {
          "data": {
            "application/vnd.google.colaboratory.intrinsic+json": {
              "type": "string"
            },
            "text/plain": [
              "'Predicted Sentiment: POSITIVE'"
            ]
          },
          "metadata": {},
          "output_type": "display_data"
        },
        {
          "name": "stdout",
          "output_type": "stream",
          "text": [
            "\n"
          ]
        },
        {
          "data": {
            "application/vnd.google.colaboratory.intrinsic+json": {
              "type": "string"
            },
            "text/plain": [
              "\"Review: I don't like this is movie!!!!!!!!!\""
            ]
          },
          "metadata": {},
          "output_type": "display_data"
        },
        {
          "data": {
            "application/vnd.google.colaboratory.intrinsic+json": {
              "type": "string"
            },
            "text/plain": [
              "'Predicted Sentiment: NEGATIVE'"
            ]
          },
          "metadata": {},
          "output_type": "display_data"
        },
        {
          "name": "stdout",
          "output_type": "stream",
          "text": [
            "\n"
          ]
        },
        {
          "data": {
            "application/vnd.google.colaboratory.intrinsic+json": {
              "type": "string"
            },
            "text/plain": [
              "\"Review: I don't think this is a good movie\""
            ]
          },
          "metadata": {},
          "output_type": "display_data"
        },
        {
          "data": {
            "application/vnd.google.colaboratory.intrinsic+json": {
              "type": "string"
            },
            "text/plain": [
              "'Predicted Sentiment: POSITIVE'"
            ]
          },
          "metadata": {},
          "output_type": "display_data"
        },
        {
          "name": "stdout",
          "output_type": "stream",
          "text": [
            "\n"
          ]
        }
      ],
      "source": [
        "# Predict sentiment for each review\n",
        "for review in test_reviews:\n",
        "  cleaned_review = clean_review_func(review)\n",
        "  processed_review = preprocess_review(review, max_pad=avg_len)\n",
        "  prediction = np.round(model_loaded.predict(processed_review, verbose=0)).squeeze()\n",
        "  sentiment = label_processor_obj_loaded.classes_[int(prediction)]\n",
        "  display(f\"Review: {review}\")\n",
        "  display(f\"Predicted Sentiment: {sentiment.upper()}\")\n",
        "  print()"
      ]
    }
  ],
  "metadata": {
    "accelerator": "GPU",
    "colab": {
      "gpuType": "T4",
      "provenance": []
    },
    "kernelspec": {
      "display_name": "Python 3",
      "name": "python3"
    },
    "language_info": {
      "codemirror_mode": {
        "name": "ipython",
        "version": 3
      },
      "file_extension": ".py",
      "mimetype": "text/x-python",
      "name": "python",
      "nbconvert_exporter": "python",
      "pygments_lexer": "ipython3",
      "version": "3.9.2"
    }
  },
  "nbformat": 4,
  "nbformat_minor": 0
}
